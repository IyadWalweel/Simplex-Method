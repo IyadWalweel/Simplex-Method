{
 "cells": [
  {
   "cell_type": "markdown",
   "metadata": {},
   "source": [
    "# Testing \"My Solver\" depending on CVXPY "
   ]
  },
  {
   "cell_type": "code",
   "execution_count": 1,
   "metadata": {},
   "outputs": [
    {
     "ename": "ImportError",
     "evalue": "attempted relative import with no known parent package",
     "output_type": "error",
     "traceback": [
      "\u001b[1;31m---------------------------------------------------------------------------\u001b[0m",
      "\u001b[1;31mImportError\u001b[0m                               Traceback (most recent call last)",
      "\u001b[1;32m~\\AppData\\Local\\Temp/ipykernel_12028/1997076899.py\u001b[0m in \u001b[0;36m<module>\u001b[1;34m\u001b[0m\n\u001b[1;32m----> 1\u001b[1;33m \u001b[1;32mfrom\u001b[0m \u001b[0mSimplex_Solver\u001b[0m \u001b[1;32mimport\u001b[0m \u001b[0msimplex\u001b[0m \u001b[1;32mas\u001b[0m \u001b[0msplx\u001b[0m\u001b[1;33m\u001b[0m\u001b[1;33m\u001b[0m\u001b[0m\n\u001b[0m\u001b[0;32m      2\u001b[0m \u001b[1;32mimport\u001b[0m \u001b[0mnumpy\u001b[0m \u001b[1;32mas\u001b[0m \u001b[0mnp\u001b[0m\u001b[1;33m\u001b[0m\u001b[1;33m\u001b[0m\u001b[0m\n\u001b[0;32m      3\u001b[0m \u001b[1;32mimport\u001b[0m \u001b[0mcvxpy\u001b[0m \u001b[1;32mas\u001b[0m \u001b[0mcp\u001b[0m\u001b[1;33m\u001b[0m\u001b[1;33m\u001b[0m\u001b[0m\n",
      "\u001b[1;32mc:\\Users\\jc\\Desktop\\Iyad's Documents\\M2 Optimization\\Stage\\Programming\\Simplex\\Simplex_Solver.py\u001b[0m in \u001b[0;36m<module>\u001b[1;34m\u001b[0m\n\u001b[0;32m      1\u001b[0m \u001b[1;32mimport\u001b[0m \u001b[0mnumpy\u001b[0m \u001b[1;32mas\u001b[0m \u001b[0mnp\u001b[0m\u001b[1;33m\u001b[0m\u001b[1;33m\u001b[0m\u001b[0m\n\u001b[1;32m----> 2\u001b[1;33m \u001b[1;32mfrom\u001b[0m \u001b[1;33m.\u001b[0m\u001b[0mStandard_Form\u001b[0m \u001b[1;32mimport\u001b[0m \u001b[0mstd_Form\u001b[0m\u001b[1;33m\u001b[0m\u001b[1;33m\u001b[0m\u001b[0m\n\u001b[0m\u001b[0;32m      3\u001b[0m \u001b[1;32mfrom\u001b[0m \u001b[1;33m.\u001b[0m\u001b[0mSimplex_Method\u001b[0m \u001b[1;32mimport\u001b[0m \u001b[0msimplex_Method\u001b[0m\u001b[1;33m\u001b[0m\u001b[1;33m\u001b[0m\u001b[0m\n\u001b[0;32m      4\u001b[0m \u001b[1;32mfrom\u001b[0m \u001b[1;33m.\u001b[0m\u001b[0mBig_M\u001b[0m \u001b[1;32mimport\u001b[0m \u001b[0mBig_M_Method\u001b[0m\u001b[1;33m\u001b[0m\u001b[1;33m\u001b[0m\u001b[0m\n\u001b[0;32m      5\u001b[0m \u001b[1;32mfrom\u001b[0m \u001b[1;33m.\u001b[0m\u001b[0mTwo_Phase\u001b[0m \u001b[1;32mimport\u001b[0m \u001b[1;33m*\u001b[0m\u001b[1;33m\u001b[0m\u001b[1;33m\u001b[0m\u001b[0m\n",
      "\u001b[1;31mImportError\u001b[0m: attempted relative import with no known parent package"
     ]
    }
   ],
   "source": [
    "from Simplex_Solver import simplex as splx\n",
    "import numpy as np\n",
    "import cvxpy as cp"
   ]
  },
  {
   "cell_type": "code",
   "execution_count": 3,
   "metadata": {},
   "outputs": [],
   "source": [
    "# Objective \n",
    "def f(X, c):\n",
    "    return c@X"
   ]
  },
  {
   "cell_type": "code",
   "execution_count": 4,
   "metadata": {},
   "outputs": [],
   "source": [
    "# Constraints\n",
    "def g(X, A, b):\n",
    "    L = A@X - b\n",
    "    return L"
   ]
  },
  {
   "cell_type": "markdown",
   "metadata": {},
   "source": [
    "## $1^{st}$ Problem \n",
    "$$\\min_{x \\in \\mathbb{R}^4, x \\geq 0} -7x_1 - 9x_2 - 18x_3 -17x_4$$\n",
    "subject to:- \n",
    "$$\\begin{cases} 2x_1 + 4x_2 + 5x_3 + 7x_4 \\leq 41  \\\\ x_1 + x_2 + 2x_3 + 2x_4 \\leq 17 \\\\ x_1 + 2x_2 + 3x_3 + 3x_4 \\leq 24\\end{cases}$$"
   ]
  },
  {
   "cell_type": "code",
   "execution_count": 5,
   "metadata": {},
   "outputs": [],
   "source": [
    "c1 = np.array([-7, -9, -18, -17])\n",
    "Al1 = np.array([[2,4,6,7],[1,1,2,2],[1,2,3,3]])\n",
    "bl1 = np.array([41,17,24])"
   ]
  },
  {
   "cell_type": "code",
   "execution_count": 6,
   "metadata": {},
   "outputs": [
    {
     "name": "stdout",
     "output_type": "stream",
     "text": [
      "Objective Value =  -133.0\n",
      "Solution:  [10.   0.   3.5  0. ]\n",
      "Dual Solution:  [ 2.  3. -0.]\n"
     ]
    }
   ],
   "source": [
    "x1 = cp.Variable(len(c1))\n",
    "objective1 = cp.Minimize(f(x1, c1))\n",
    "constraints1 = [g(x1, Al1, bl1) <= 0, x1>=0]\n",
    "LP1 = cp.Problem(objective1, constraints1)\n",
    "res1 = LP1.solve(solver = cp.CPLEX)\n",
    "print('Objective Value = ', res1)\n",
    "print('Solution: ', x1.value)\n",
    "print('Dual Solution: ', constraints1[0].dual_value)"
   ]
  },
  {
   "cell_type": "code",
   "execution_count": 7,
   "metadata": {},
   "outputs": [
    {
     "name": "stdout",
     "output_type": "stream",
     "text": [
      "{'Optimal Value': -133.0, 'Optimal Solution': array([10. ,  0. ,  3.5,  0. ]), 'Associated Dual Solution': array([1.9999999999999991, 3.0, 0.0], dtype=object), 'Number of Iterations': 2}\n"
     ]
    }
   ],
   "source": [
    "result1, table1, X1, Y1, F1, ite1 = splx(c1, Al1, bl1)\n",
    "print(result1)"
   ]
  },
  {
   "cell_type": "markdown",
   "metadata": {},
   "source": [
    "## $2^{nd}$ Problem \n",
    "$$\\max ~ 5x_1 + 12x_2 + 4x_3$$\n",
    "subject to:- \n",
    "$$\\begin{cases} x_1 + 2x_2 + x_3 \\leq 10  \\\\ 2x_1 - x_2 + 3x_3 = 8 \\end{cases}$$"
   ]
  },
  {
   "cell_type": "code",
   "execution_count": 8,
   "metadata": {},
   "outputs": [],
   "source": [
    "c2 = np.array([5,12,4])\n",
    "Al2 = np.array([1,2,1])\n",
    "bl2 = np.array([10])\n",
    "Ae2 = np.array([2,-1,3])\n",
    "be2 = np.array([8])"
   ]
  },
  {
   "cell_type": "code",
   "execution_count": 9,
   "metadata": {},
   "outputs": [
    {
     "name": "stdout",
     "output_type": "stream",
     "text": [
      "Objective Value =  54.8\n",
      "Solution:  [5.2 2.4 0. ]\n",
      "Dual Solution:  [array([5.8]), array([-0.4])]\n"
     ]
    }
   ],
   "source": [
    "x2 = cp.Variable(len(c2))\n",
    "objective2 = cp.Maximize(f(x2, c2))\n",
    "constraints2 = [g(x2, Al2, bl2) <= 0, g(x2, Ae2, be2) == 0 ,x2>=0]\n",
    "LP2 = cp.Problem(objective2, constraints2)\n",
    "res2 = LP2.solve(solver = cp.CPLEX)\n",
    "print('Objective Value = ', res2)\n",
    "print('Solution: ', x2.value)\n",
    "print('Dual Solution: ', [constraints2[0].dual_value, constraints2[1].dual_value])"
   ]
  },
  {
   "cell_type": "code",
   "execution_count": 10,
   "metadata": {},
   "outputs": [
    {
     "name": "stdout",
     "output_type": "stream",
     "text": [
      "{'Optimal Value': 54.8, 'Optimal Solution': array([5.2, 2.4, 0. ]), 'Associated Dual Solution': array([5.8, -0.4000000000000006], dtype=object), 'Number of Iterations': 3}\n"
     ]
    }
   ],
   "source": [
    "result2, table2, X2, Y2, F2, ite2 = splx(c2, Al2, bl2, Ae=Ae2, be=be2, Big_M = True, obj = 'Max')\n",
    "print(result2)"
   ]
  },
  {
   "cell_type": "code",
   "execution_count": null,
   "metadata": {},
   "outputs": [],
   "source": [
    "result22, table22, X22, Y22, F22, ite22 = splx(c2, Al2, bl2, Ae=Ae2, be=be2, obj = 'Max')\n",
    "print(result22)"
   ]
  },
  {
   "cell_type": "markdown",
   "metadata": {},
   "source": [
    "## $3^{rd}$ Problem \n",
    "$$\\min ~ 4x_1 + x_2 $$\n",
    "subject to:- \n",
    "$$\\begin{cases} 3x_1 + x_2 = 3  \\\\ 4x_1 + 3x_2 \\geq 6 \\\\ x_1 + 2x_2 \\leq 4 \\end{cases}$$"
   ]
  },
  {
   "cell_type": "code",
   "execution_count": null,
   "metadata": {},
   "outputs": [],
   "source": [
    "c3 = np.array([4,1])\n",
    "Al3 = np.array([1,2])\n",
    "bl3 = np.array([4])\n",
    "Ag3 = np.array([4,3])\n",
    "bg3 = np.array([6])\n",
    "Ae3 = np.array([3,1])\n",
    "be3 = np.array([3])"
   ]
  },
  {
   "cell_type": "code",
   "execution_count": null,
   "metadata": {},
   "outputs": [],
   "source": [
    "x3 = cp.Variable(len(c3))\n",
    "objective3 = cp.Minimize(f(x3, c3))\n",
    "constraints3 = [g(x3, Al3, bl3) <= 0, g(x3, Ag3, bg3) >= 0, g(x3, Ae3, be3) == 0 ,x3>=0]\n",
    "LP3 = cp.Problem(objective3, constraints3)\n",
    "res3 = LP3.solve(solver = cp.CPLEX)\n",
    "print('Objective Value = ', res3)\n",
    "print('Solution: ', x3.value)\n",
    "print('Dual Solution: ', [constraints3[0].dual_value, constraints3[1].dual_value, constraints3[2].dual_value])"
   ]
  },
  {
   "cell_type": "code",
   "execution_count": null,
   "metadata": {},
   "outputs": [],
   "source": [
    "result3, table3, X3, Y3, F3, ite3 = splx(c3, Al3, bl3, Ag3, bg3, Ae3, be3, Big_M = True)\n",
    "print(result3)"
   ]
  },
  {
   "cell_type": "code",
   "execution_count": null,
   "metadata": {},
   "outputs": [],
   "source": [
    "result33, table33, X33, Y33, F33, ite33 = splx(c3, Al3, bl3, Ag3, bg3, Ae3, be3)\n",
    "print(result33)"
   ]
  },
  {
   "cell_type": "markdown",
   "metadata": {},
   "source": [
    "## $4^{th}$ Problem (Infeasible Solution)\n",
    "$$\\max ~ 3x_1 + 2x_2 $$\n",
    "subject to:- \n",
    "$$\\begin{cases} 2x_1 + x_2 \\leq 2  \\\\ 3x_1 + 4x_2 \\geq 12 \\end{cases}$$"
   ]
  },
  {
   "cell_type": "code",
   "execution_count": 2,
   "metadata": {},
   "outputs": [],
   "source": [
    "c4 = np.array([3,2])\n",
    "Al4 = np.array([2,1])\n",
    "bl4 = np.array([2])\n",
    "Ag4 = np.array([3,4])\n",
    "bg4 = np.array([12])"
   ]
  },
  {
   "cell_type": "code",
   "execution_count": 3,
   "metadata": {},
   "outputs": [
    {
     "name": "stdout",
     "output_type": "stream",
     "text": [
      "{'Optimal Value': 404.0, 'Optimal Solution': array([0., 2.]), 'Associated Dual Solution': array([398.0, -100.0], dtype=object), 'Number of Iterations': 1}\n"
     ]
    }
   ],
   "source": [
    "result4, table4, X4, Y4, F4, ite4 = splx(c4, Al4, bl4, Ag4, bg4, Big_M = True)\n",
    "print(result4)"
   ]
  },
  {
   "cell_type": "code",
   "execution_count": 4,
   "metadata": {},
   "outputs": [
    {
     "name": "stdout",
     "output_type": "stream",
     "text": [
      "No Feasible Solution\n",
      "None\n"
     ]
    }
   ],
   "source": [
    "result44, table44, X44, Y44, F44, ite44 = splx(c4, Al4, bl4, Ag4, bg4)\n",
    "print(result44)"
   ]
  },
  {
   "cell_type": "markdown",
   "metadata": {},
   "source": [
    "## $5^{th}$ Problem (Random Inputs)"
   ]
  },
  {
   "cell_type": "code",
   "execution_count": 1,
   "metadata": {},
   "outputs": [
    {
     "ename": "NameError",
     "evalue": "name 'np' is not defined",
     "output_type": "error",
     "traceback": [
      "\u001b[1;31m---------------------------------------------------------------------------\u001b[0m",
      "\u001b[1;31mNameError\u001b[0m                                 Traceback (most recent call last)",
      "\u001b[1;32m~\\AppData\\Local\\Temp/ipykernel_9080/1123073067.py\u001b[0m in \u001b[0;36m<module>\u001b[1;34m\u001b[0m\n\u001b[1;32m----> 1\u001b[1;33m \u001b[0mc5\u001b[0m \u001b[1;33m=\u001b[0m \u001b[0mnp\u001b[0m\u001b[1;33m.\u001b[0m\u001b[0mrandom\u001b[0m\u001b[1;33m.\u001b[0m\u001b[0mrandint\u001b[0m\u001b[1;33m(\u001b[0m\u001b[1;33m-\u001b[0m\u001b[1;36m10\u001b[0m\u001b[1;33m,\u001b[0m \u001b[1;36m10\u001b[0m\u001b[1;33m,\u001b[0m \u001b[1;36m100\u001b[0m\u001b[1;33m)\u001b[0m\u001b[1;33m\u001b[0m\u001b[1;33m\u001b[0m\u001b[0m\n\u001b[0m\u001b[0;32m      2\u001b[0m \u001b[0mAl5\u001b[0m \u001b[1;33m=\u001b[0m \u001b[0mnp\u001b[0m\u001b[1;33m.\u001b[0m\u001b[0mrandom\u001b[0m\u001b[1;33m.\u001b[0m\u001b[0mrandint\u001b[0m\u001b[1;33m(\u001b[0m\u001b[1;36m0\u001b[0m\u001b[1;33m,\u001b[0m \u001b[1;36m5\u001b[0m\u001b[1;33m,\u001b[0m \u001b[0msize\u001b[0m\u001b[1;33m=\u001b[0m\u001b[1;33m(\u001b[0m\u001b[1;36m100\u001b[0m\u001b[1;33m,\u001b[0m \u001b[1;36m100\u001b[0m\u001b[1;33m)\u001b[0m\u001b[1;33m)\u001b[0m\u001b[1;33m\u001b[0m\u001b[1;33m\u001b[0m\u001b[0m\n\u001b[0;32m      3\u001b[0m \u001b[0mbl5\u001b[0m \u001b[1;33m=\u001b[0m \u001b[0mnp\u001b[0m\u001b[1;33m.\u001b[0m\u001b[0mrandom\u001b[0m\u001b[1;33m.\u001b[0m\u001b[0mrandint\u001b[0m\u001b[1;33m(\u001b[0m\u001b[1;36m0\u001b[0m\u001b[1;33m,\u001b[0m \u001b[1;36m10\u001b[0m\u001b[1;33m,\u001b[0m \u001b[1;36m100\u001b[0m\u001b[1;33m)\u001b[0m\u001b[1;33m\u001b[0m\u001b[1;33m\u001b[0m\u001b[0m\n",
      "\u001b[1;31mNameError\u001b[0m: name 'np' is not defined"
     ]
    }
   ],
   "source": [
    "c5 = np.random.randint(-10, 10, 100)\n",
    "Al5 = np.random.randint(0, 5, size=(100, 100))\n",
    "bl5 = np.random.randint(0, 10, 100)"
   ]
  },
  {
   "cell_type": "code",
   "execution_count": null,
   "metadata": {},
   "outputs": [],
   "source": []
  }
 ],
 "metadata": {
  "interpreter": {
   "hash": "88279d2366fe020547cde40dd65aa0e3aa662a6ec1f3ca12d88834876c85e1a6"
  },
  "kernelspec": {
   "display_name": "Python 3.9.7 ('base')",
   "language": "python",
   "name": "python3"
  },
  "language_info": {
   "codemirror_mode": {
    "name": "ipython",
    "version": 3
   },
   "file_extension": ".py",
   "mimetype": "text/x-python",
   "name": "python",
   "nbconvert_exporter": "python",
   "pygments_lexer": "ipython3",
   "version": "3.9.7"
  },
  "orig_nbformat": 4
 },
 "nbformat": 4,
 "nbformat_minor": 2
}
