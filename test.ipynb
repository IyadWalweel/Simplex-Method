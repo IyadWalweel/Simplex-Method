{
 "cells": [
  {
   "cell_type": "markdown",
   "metadata": {},
   "source": [
    "# Testing \"My Solver\" depending on CVXPY "
   ]
  },
  {
   "cell_type": "code",
   "execution_count": 1,
   "metadata": {},
   "outputs": [],
   "source": [
    "import numpy as np\n",
    "import cvxpy as cp\n",
    "from tabulate import tabulate\n",
    "\n",
    "from Simplex.Simplex_Solver import simplex as splx"
   ]
  },
  {
   "cell_type": "code",
   "execution_count": 2,
   "metadata": {},
   "outputs": [],
   "source": [
    "# Objective \n",
    "def f(X, c):\n",
    "    return c@X"
   ]
  },
  {
   "cell_type": "code",
   "execution_count": 3,
   "metadata": {},
   "outputs": [],
   "source": [
    "# Constraints\n",
    "def g(X, A, b):\n",
    "    L = A@X - b\n",
    "    return L"
   ]
  },
  {
   "cell_type": "markdown",
   "metadata": {},
   "source": [
    "## $1^{st}$ Problem \n",
    "$$\\min_{x \\in \\mathbb{R}^4, x \\geq 0} -7x_1 - 9x_2 - 18x_3 -17x_4$$\n",
    "subject to:- \n",
    "$$\\begin{cases} 2x_1 + 4x_2 + 5x_3 + 7x_4 \\leq 41  \\\\ x_1 + x_2 + 2x_3 + 2x_4 \\leq 17 \\\\ x_1 + 2x_2 + 3x_3 + 3x_4 \\leq 24\\end{cases}$$"
   ]
  },
  {
   "cell_type": "code",
   "execution_count": 4,
   "metadata": {},
   "outputs": [],
   "source": [
    "c1 = np.array([-7, -9, -18, -17])\n",
    "Al1 = np.array([[2,4,6,7],[1,1,2,2],[1,2,3,3]])\n",
    "bl1 = np.array([41,17,24])"
   ]
  },
  {
   "cell_type": "code",
   "execution_count": 5,
   "metadata": {},
   "outputs": [
    {
     "name": "stdout",
     "output_type": "stream",
     "text": [
      "Objective Value =  -133.0\n",
      "Solution:  [10.   0.   3.5  0. ]\n",
      "Dual Solution:  [ 2.  3. -0.]\n"
     ]
    }
   ],
   "source": [
    "x1 = cp.Variable(len(c1))\n",
    "objective1 = cp.Minimize(f(x1, c1))\n",
    "constraints1 = [g(x1, Al1, bl1) <= 0, x1>=0]\n",
    "LP1 = cp.Problem(objective1, constraints1)\n",
    "res1 = LP1.solve(solver = cp.CPLEX)\n",
    "print('Objective Value = ', res1)\n",
    "print('Solution: ', x1.value)\n",
    "print('Dual Solution: ', constraints1[0].dual_value)"
   ]
  },
  {
   "cell_type": "code",
   "execution_count": 6,
   "metadata": {},
   "outputs": [
    {
     "name": "stdout",
     "output_type": "stream",
     "text": [
      "{'Optimal Value': -133.0, 'Optimal Solution': array([10. ,  0. ,  3.5,  0. ]), 'Associated Dual Solution': array([1.9999999999999991, 3.0, 0.0], dtype=object), 'Number of Iterations': 2}\n"
     ]
    }
   ],
   "source": [
    "result1, table1, X1, Y1, F1, ite1 = splx(c1, Al1, bl1)\n",
    "print(result1)"
   ]
  },
  {
   "cell_type": "markdown",
   "metadata": {},
   "source": [
    "## $2^{nd}$ Problem \n",
    "$$\\max ~ 5x_1 + 12x_2 + 4x_3$$\n",
    "subject to:- \n",
    "$$\\begin{cases} x_1 + 2x_2 + x_3 \\leq 10  \\\\ 2x_1 - x_2 + 3x_3 = 8 \\end{cases}$$"
   ]
  },
  {
   "cell_type": "code",
   "execution_count": 7,
   "metadata": {},
   "outputs": [],
   "source": [
    "c2 = np.array([5,12,4])\n",
    "Al2 = np.array([1,2,1])\n",
    "bl2 = np.array([10])\n",
    "Ae2 = np.array([2,-1,3])\n",
    "be2 = np.array([8])"
   ]
  },
  {
   "cell_type": "code",
   "execution_count": 8,
   "metadata": {},
   "outputs": [
    {
     "name": "stdout",
     "output_type": "stream",
     "text": [
      "Objective Value =  54.8\n",
      "Solution:  [5.2 2.4 0. ]\n",
      "Dual Solution:  [array([5.8]), array([-0.4])]\n"
     ]
    }
   ],
   "source": [
    "x2 = cp.Variable(len(c2))\n",
    "objective2 = cp.Maximize(f(x2, c2))\n",
    "constraints2 = [g(x2, Al2, bl2) <= 0, g(x2, Ae2, be2) == 0 ,x2>=0]\n",
    "LP2 = cp.Problem(objective2, constraints2)\n",
    "res2 = LP2.solve(solver = cp.CPLEX)\n",
    "print('Objective Value = ', res2)\n",
    "print('Solution: ', x2.value)\n",
    "print('Dual Solution: ', [constraints2[0].dual_value, constraints2[1].dual_value])"
   ]
  },
  {
   "cell_type": "code",
   "execution_count": 9,
   "metadata": {},
   "outputs": [
    {
     "name": "stdout",
     "output_type": "stream",
     "text": [
      "{'Optimal Value': 54.8, 'Optimal Solution': array([5.2, 2.4, 0. ]), 'Associated Dual Solution': array([5.8, -0.4000000000000006], dtype=object), 'Number of Iterations': 3}\n"
     ]
    }
   ],
   "source": [
    "result2, table2, X2, Y2, F2, ite2 = splx(c2, Al2, bl2, Ae=Ae2, be=be2, Big_M = True, obj = 'Max')\n",
    "print(result2)"
   ]
  },
  {
   "cell_type": "code",
   "execution_count": 10,
   "metadata": {},
   "outputs": [
    {
     "name": "stdout",
     "output_type": "stream",
     "text": [
      "Phase2:- \n",
      "{'Optimal Value': 54.8, 'Optimal Solution': array([5.2, 2.4, 0. ]), 'Associated Dual Solution': array([5.8, -0.4000000000000006], dtype=object), 'Number of Iterations': 2}\n"
     ]
    }
   ],
   "source": [
    "result22, table22, X22, Y22, F22, ite22 = splx(c2, Al2, bl2, Ae=Ae2, be=be2, obj = 'Max')\n",
    "print(result22)"
   ]
  },
  {
   "cell_type": "markdown",
   "metadata": {},
   "source": [
    "## $3^{rd}$ Problem \n",
    "$$\\min ~ 4x_1 + x_2 $$\n",
    "subject to:- \n",
    "$$\\begin{cases} 3x_1 + x_2 = 3  \\\\ 4x_1 + 3x_2 \\geq 6 \\\\ x_1 + 2x_2 \\leq 4 \\end{cases}$$"
   ]
  },
  {
   "cell_type": "code",
   "execution_count": 11,
   "metadata": {},
   "outputs": [],
   "source": [
    "c3 = np.array([4,1])\n",
    "Al3 = np.array([1,2])\n",
    "bl3 = np.array([4])\n",
    "Ag3 = np.array([4,3])\n",
    "bg3 = np.array([6])\n",
    "Ae3 = np.array([3,1])\n",
    "be3 = np.array([3])"
   ]
  },
  {
   "cell_type": "code",
   "execution_count": 12,
   "metadata": {},
   "outputs": [
    {
     "name": "stdout",
     "output_type": "stream",
     "text": [
      "Objective Value =  3.4000000000000004\n",
      "Solution:  [0.4 1.8]\n",
      "Dual Solution:  [array([0.2]), array([-0.]), array([-1.4])]\n"
     ]
    }
   ],
   "source": [
    "x3 = cp.Variable(len(c3))\n",
    "objective3 = cp.Minimize(f(x3, c3))\n",
    "constraints3 = [g(x3, Al3, bl3) <= 0, g(x3, Ag3, bg3) >= 0, g(x3, Ae3, be3) == 0 ,x3>=0]\n",
    "LP3 = cp.Problem(objective3, constraints3)\n",
    "res3 = LP3.solve(solver = cp.CPLEX)\n",
    "print('Objective Value = ', res3)\n",
    "print('Solution: ', x3.value)\n",
    "print('Dual Solution: ', [constraints3[0].dual_value, constraints3[1].dual_value, constraints3[2].dual_value])"
   ]
  },
  {
   "cell_type": "code",
   "execution_count": 13,
   "metadata": {},
   "outputs": [
    {
     "name": "stdout",
     "output_type": "stream",
     "text": [
      "Problem in Standard Form:\n",
      "-----  ----  ----  ----  ---  ------  ------  --------\n",
      "Basic  x1    x2    p1    s1   R1      R2      Solution\n",
      "z      -4.0  -1.0  0.0   0.0  -100.0  -100.0  0.0\n",
      "s1     1     2     0.0   1.0  0.0     0.0     4\n",
      "R1     4     3     -1.0  0.0  1.0     0.0     6\n",
      "R2     3     1     0.0   0.0  0.0     1.0     3\n",
      "-----  ----  ----  ----  ---  ------  ------  --------\n",
      "The Optimal Tableau: \n",
      "-----  ---  ---  ---  --------------------  ------  --------------------  -------------------\n",
      "Basic  x1   x2   p1   s1                    R1      R2                    Solution\n",
      "z      0.0  0.0  0.0  -0.20000000000000284  -100.0  -98.60000000000001    3.3999999999999915\n",
      "p1     0.0  0.0  1.0  1.0                   -1.0    1.0                   1.0\n",
      "x2     0.0  1.0  0.0  0.6                   0.0     -0.19999999999999996  1.7999999999999998\n",
      "x1     1.0  0.0  0.0  -0.19999999999999998  0.0     0.3999999999999999    0.40000000000000013\n",
      "-----  ---  ---  ---  --------------------  ------  --------------------  -------------------\n",
      "{'Optimal Value': 3.3999999999999915, 'Optimal Solution': array([0.4, 1.8]), 'Associated Dual Solution': array([0.19999999999999996, -0.0, -1.3999999999999997], dtype=object), 'Number of Iterations': 3}\n"
     ]
    }
   ],
   "source": [
    "result3, table3, X3, Y3, F3, ite3 = splx(c3, Al3, bl3, Ag3, bg3, Ae3, be3, Big_M = True, Show=True)\n",
    "print(result3)"
   ]
  },
  {
   "cell_type": "code",
   "execution_count": 14,
   "metadata": {},
   "outputs": [
    {
     "name": "stdout",
     "output_type": "stream",
     "text": [
      "Phase2:- \n",
      "{'Optimal Value': 3.4000000000000004, 'Optimal Solution': array([0.4, 1.8]), 'Associated Dual Solution': array([0.19999999999999996, -0.0, -1.3999999999999997], dtype=object), 'Number of Iterations': 1}\n"
     ]
    }
   ],
   "source": [
    "result33, table33, X33, Y33, F33, ite33 = splx(c3, Al3, bl3, Ag3, bg3, Ae3, be3)\n",
    "print(result33)"
   ]
  },
  {
   "cell_type": "markdown",
   "metadata": {},
   "source": [
    "## $4^{th}$ Problem (Infeasible Solution)\n",
    "$$\\max ~ 3x_1 + 2x_2 $$\n",
    "subject to:- \n",
    "$$\\begin{cases} 2x_1 + x_2 \\leq 2  \\\\ 3x_1 + 4x_2 \\geq 12 \\end{cases}$$"
   ]
  },
  {
   "cell_type": "code",
   "execution_count": 15,
   "metadata": {},
   "outputs": [],
   "source": [
    "c4 = np.array([3,2])\n",
    "Al4 = np.array([2,1])\n",
    "bl4 = np.array([2])\n",
    "Ag4 = np.array([3,4])\n",
    "bg4 = np.array([12])"
   ]
  },
  {
   "cell_type": "code",
   "execution_count": 16,
   "metadata": {},
   "outputs": [
    {
     "name": "stdout",
     "output_type": "stream",
     "text": [
      "No Feasible Solution\n",
      "inf\n"
     ]
    }
   ],
   "source": [
    "result4, table4, X4, Y4, F4, ite4 = splx(c4, Al4, bl4, Ag4, bg4, Big_M = True)\n",
    "print(result4)"
   ]
  },
  {
   "cell_type": "code",
   "execution_count": 17,
   "metadata": {},
   "outputs": [
    {
     "name": "stdout",
     "output_type": "stream",
     "text": [
      "No Feasible Solution\n",
      "inf\n"
     ]
    }
   ],
   "source": [
    "result44, table44, X44, Y44, F44, ite44 = splx(c4, Al4, bl4, Ag4, bg4)\n",
    "print(result44)"
   ]
  },
  {
   "cell_type": "markdown",
   "metadata": {},
   "source": [
    "## Random Inputs"
   ]
  },
  {
   "cell_type": "markdown",
   "metadata": {},
   "source": [
    "### Example 1"
   ]
  },
  {
   "cell_type": "code",
   "execution_count": 18,
   "metadata": {},
   "outputs": [],
   "source": [
    "c5 = np.random.randint(-100, 100, 300)\n",
    "Al5 = np.random.randint(0, 15, size=(150, 300))\n",
    "bl5 = np.random.randint(0, 20, 150)"
   ]
  },
  {
   "cell_type": "code",
   "execution_count": 19,
   "metadata": {},
   "outputs": [
    {
     "name": "stdout",
     "output_type": "stream",
     "text": [
      "Objective Value =  0.0\n"
     ]
    }
   ],
   "source": [
    "x5 = cp.Variable(len(c5))\n",
    "objective5 = cp.Minimize(f(x5, c5))\n",
    "constraints5 = [g(x5, Al5, bl5) <= 0, x5>=0]\n",
    "LP5 = cp.Problem(objective5, constraints5)\n",
    "res5 = LP5.solve(solver = cp.CPLEX)\n",
    "print('Objective Value = ', res5)"
   ]
  },
  {
   "cell_type": "code",
   "execution_count": 20,
   "metadata": {},
   "outputs": [
    {
     "name": "stdout",
     "output_type": "stream",
     "text": [
      "Optimal Value:  0.0\n"
     ]
    }
   ],
   "source": [
    "result5 = splx(c5, Al5, bl5)\n",
    "print('Optimal Value: ', result5[0]['Optimal Value'])"
   ]
  },
  {
   "cell_type": "markdown",
   "metadata": {},
   "source": [
    "### Example 2"
   ]
  },
  {
   "cell_type": "code",
   "execution_count": 21,
   "metadata": {},
   "outputs": [],
   "source": [
    "c6 = np.random.randint(0, 5, 20)\n",
    "Ag6 = np.random.randint(-10, 15, size=(30, 20))\n",
    "bg6 = np.random.randint(0, 20, 30)"
   ]
  },
  {
   "cell_type": "code",
   "execution_count": 22,
   "metadata": {},
   "outputs": [
    {
     "name": "stdout",
     "output_type": "stream",
     "text": [
      "Objective Value =  16.679842082545505\n"
     ]
    }
   ],
   "source": [
    "x6 = cp.Variable(len(c6))\n",
    "objective6 = cp.Minimize(f(x6, c6))\n",
    "constraints6 = [g(x6, Ag6, bg6) >= 0, x6>=0]\n",
    "LP6 = cp.Problem(objective6, constraints6)\n",
    "res6 = LP6.solve(solver = cp.CPLEX)\n",
    "print('Objective Value = ', res6)"
   ]
  },
  {
   "cell_type": "code",
   "execution_count": 23,
   "metadata": {},
   "outputs": [
    {
     "name": "stdout",
     "output_type": "stream",
     "text": [
      "Optimal Value:  16.679842082573753\n"
     ]
    }
   ],
   "source": [
    "result6 = splx(c6, Ag = Ag6, bg = bg6, Big_M=True)\n",
    "if (result6[0]['Optimal Value']) is not None:\n",
    "    print('Optimal Value: ', result6[0]['Optimal Value'])\n",
    "else:\n",
    "    print('None')"
   ]
  },
  {
   "cell_type": "code",
   "execution_count": 24,
   "metadata": {},
   "outputs": [
    {
     "name": "stdout",
     "output_type": "stream",
     "text": [
      "Phase2:- \n",
      "Optimal Value:  16.679842082544994\n"
     ]
    }
   ],
   "source": [
    "result66 = splx(c6, Ag = Ag6, bg = bg6)\n",
    "if (result66[0]['Optimal Value']) is not None:\n",
    "    print('Optimal Value: ', result66[0]['Optimal Value'])\n",
    "else:\n",
    "    print('None')"
   ]
  },
  {
   "cell_type": "markdown",
   "metadata": {},
   "source": [
    "### Example 3"
   ]
  },
  {
   "cell_type": "code",
   "execution_count": 25,
   "metadata": {},
   "outputs": [],
   "source": [
    "c7 = np.random.randint(-10, 10, 100)\n",
    "Ae7 = np.random.randint(0, 15, size=(100, 100))\n",
    "be7 = np.random.randint(0, 20, 100)"
   ]
  },
  {
   "cell_type": "code",
   "execution_count": 26,
   "metadata": {},
   "outputs": [
    {
     "name": "stdout",
     "output_type": "stream",
     "text": [
      "Objective Value =  -inf\n",
      "Solution:  None\n"
     ]
    }
   ],
   "source": [
    "x7 = cp.Variable(len(c7))\n",
    "objective7 = cp.Maximize(f(x7, c7))\n",
    "constraints7 = [g(x7, Ae7, be7) == 0, x7>=0]\n",
    "LP7 = cp.Problem(objective7, constraints7)\n",
    "res7 = LP7.solve(solver = cp.CPLEX)\n",
    "print('Objective Value = ', res7)\n",
    "print('Solution: ', x7.value)"
   ]
  },
  {
   "cell_type": "code",
   "execution_count": 27,
   "metadata": {},
   "outputs": [
    {
     "name": "stdout",
     "output_type": "stream",
     "text": [
      "No Feasible Solution\n",
      "Optimal Value:  -inf\n"
     ]
    }
   ],
   "source": [
    "result7 = splx(c7, Ae = Ae7, be = be7, Big_M=True, obj='Max')\n",
    "try:\n",
    "    print('Optimal Value: ', result7[0]['Optimal Value'])\n",
    "except:\n",
    "    print('Optimal Value: ', result7[0])\n"
   ]
  },
  {
   "cell_type": "code",
   "execution_count": 28,
   "metadata": {},
   "outputs": [
    {
     "name": "stdout",
     "output_type": "stream",
     "text": [
      "No Feasible Solution\n",
      "Optimal Value:  -inf\n"
     ]
    }
   ],
   "source": [
    "result77 = splx(c7, Ae = Ae7, be = be7, obj='Max')\n",
    "try:\n",
    "    print('Optimal Value: ', result77[0]['Optimal Value'])\n",
    "except:\n",
    "    print('Optimal Value: ', result77[0])"
   ]
  },
  {
   "cell_type": "markdown",
   "metadata": {},
   "source": [
    "### Example 4"
   ]
  },
  {
   "cell_type": "code",
   "execution_count": 29,
   "metadata": {},
   "outputs": [],
   "source": [
    "c8 = np.random.randint(-10, 10, 200)\n",
    "Al8 = np.random.randint(-15, 15, size=(150, 200))\n",
    "bl8 = np.random.randint(0, 20, 150)\n",
    "Ag8 = np.random.randint(-15, 15, size=(150, 200))\n",
    "bg8 = np.random.randint(0, 20, 150)"
   ]
  },
  {
   "cell_type": "code",
   "execution_count": 30,
   "metadata": {},
   "outputs": [
    {
     "name": "stdout",
     "output_type": "stream",
     "text": [
      "Objective Value =  -inf\n",
      "Solution:  None\n"
     ]
    }
   ],
   "source": [
    "x8 = cp.Variable(len(c8))\n",
    "objective8 = cp.Maximize(f(x8, c8))\n",
    "constraints8 = [g(x8, Al8, bl8) <= 0, g(x8, Ag8, bg8) >= 0, x8>=0]\n",
    "LP8 = cp.Problem(objective8, constraints8)\n",
    "res8 = LP8.solve(solver = cp.CPLEX)\n",
    "print('Objective Value = ', res8)\n",
    "print('Solution: ', x8.value)"
   ]
  },
  {
   "cell_type": "code",
   "execution_count": 31,
   "metadata": {},
   "outputs": [
    {
     "name": "stdout",
     "output_type": "stream",
     "text": [
      "No Feasible Solution\n",
      "Optimal Value:  -inf\n"
     ]
    }
   ],
   "source": [
    "result8 = splx(c8, Al8, bl8, Ag = Ag8, bg = bg8, Big_M=True, obj='Max')\n",
    "try:\n",
    "    print('Optimal Value: ', result8[0]['Optimal Value'])\n",
    "except:\n",
    "    print('Optimal Value: ', result8[0])"
   ]
  },
  {
   "cell_type": "code",
   "execution_count": 32,
   "metadata": {},
   "outputs": [
    {
     "name": "stdout",
     "output_type": "stream",
     "text": [
      "No Feasible Solution\n",
      "Optimal Value:  -inf\n"
     ]
    }
   ],
   "source": [
    "result88 = splx(c8, Al8, bl8, Ag = Ag8, bg = bg8, obj='Max')\n",
    "try:\n",
    "    print('Optimal Value: ', result88[0]['Optimal Value'])\n",
    "except:\n",
    "    print('Optimal Value: ', result88[0])"
   ]
  },
  {
   "cell_type": "markdown",
   "metadata": {},
   "source": [
    "### Example 5"
   ]
  },
  {
   "cell_type": "code",
   "execution_count": 33,
   "metadata": {},
   "outputs": [],
   "source": [
    "c9 = np.random.randint(-10, 10, 200)\n",
    "Al9 = np.random.randint(-2, 15, size=(150, 200))\n",
    "bl9 = np.random.randint(0, 20, 150)\n",
    "Ae9 = np.random.randint(0, 15, size=(150, 200))\n",
    "be9 = np.random.randint(0, 20, 150)"
   ]
  },
  {
   "cell_type": "code",
   "execution_count": 34,
   "metadata": {},
   "outputs": [
    {
     "name": "stdout",
     "output_type": "stream",
     "text": [
      "Objective Value =  inf\n",
      "Solution:  None\n"
     ]
    }
   ],
   "source": [
    "x9 = cp.Variable(len(c9))\n",
    "objective9 = cp.Minimize(f(x9, c9))\n",
    "constraints9 = [g(x9, Al9, bl9) <= 0, g(x9, Ae9, be9) == 0, x9>=0]\n",
    "LP9 = cp.Problem(objective9, constraints9)\n",
    "res9 = LP9.solve(solver = cp.CPLEX)\n",
    "print('Objective Value = ', res9)\n",
    "print('Solution: ', x9.value)"
   ]
  },
  {
   "cell_type": "code",
   "execution_count": 35,
   "metadata": {},
   "outputs": [
    {
     "name": "stdout",
     "output_type": "stream",
     "text": [
      "No Feasible Solution\n",
      "Optimal Value:  inf\n"
     ]
    }
   ],
   "source": [
    "result9 = splx(c9, Al9, bl9, Ae = Ae9, be = be9, Big_M=True)\n",
    "try:\n",
    "    print('Optimal Value: ', result9[0]['Optimal Value'])\n",
    "except:\n",
    "    print('Optimal Value: ', result9[0])"
   ]
  },
  {
   "cell_type": "code",
   "execution_count": 36,
   "metadata": {},
   "outputs": [
    {
     "name": "stdout",
     "output_type": "stream",
     "text": [
      "No Feasible Solution\n",
      "Optimal Value:  inf\n"
     ]
    }
   ],
   "source": [
    "result99 = splx(c9, Al9, bl9, Ae = Ae9, be = be9)\n",
    "try:\n",
    "    print('Optimal Value: ', result99[0]['Optimal Value'])\n",
    "except:\n",
    "    print('Optimal Value: ', result99[0])"
   ]
  },
  {
   "cell_type": "markdown",
   "metadata": {},
   "source": [
    "### Example 6"
   ]
  },
  {
   "cell_type": "code",
   "execution_count": 37,
   "metadata": {},
   "outputs": [],
   "source": [
    "c10 = np.random.randint(-100, 100, 300)\n",
    "Ag10 = np.random.randint(0, 15, size=(150, 300))\n",
    "bg10 = np.random.randint(0, 20, 150)\n",
    "Ae10 = np.random.randint(0, 15, size=(150, 300))\n",
    "be10 = np.random.randint(0, 20, 150)"
   ]
  },
  {
   "cell_type": "code",
   "execution_count": 38,
   "metadata": {},
   "outputs": [
    {
     "name": "stdout",
     "output_type": "stream",
     "text": [
      "Objective Value =  inf\n"
     ]
    }
   ],
   "source": [
    "x10 = cp.Variable(len(c10))\n",
    "objective10 = cp.Minimize(f(x10, c10))\n",
    "constraints10 = [g(x10, Ag10, bg10) >= 0, g(x10, Ae10, be10) == 0 ,x10>=0]\n",
    "LP10 = cp.Problem(objective10, constraints10)\n",
    "res10 = LP10.solve(solver = cp.CPLEX)\n",
    "print('Objective Value = ', res10)"
   ]
  },
  {
   "cell_type": "code",
   "execution_count": 39,
   "metadata": {},
   "outputs": [
    {
     "name": "stdout",
     "output_type": "stream",
     "text": [
      "No Feasible Solution\n",
      "Optimal Value:  inf\n"
     ]
    }
   ],
   "source": [
    "result10 = splx(c10, Ag = Ag10, bg = bg10, Ae = Ae10, be = be10, Big_M=True)\n",
    "try:\n",
    "    print('Optimal Value: ', result10[0]['Optimal Value'])\n",
    "except:\n",
    "    print('Optimal Value: ', result10[0])"
   ]
  },
  {
   "cell_type": "code",
   "execution_count": 40,
   "metadata": {},
   "outputs": [
    {
     "name": "stdout",
     "output_type": "stream",
     "text": [
      "No Feasible Solution\n",
      "Optimal Value:  inf\n"
     ]
    }
   ],
   "source": [
    "result100 = splx(c10, Ag = Ag10, bg = bg10, Ae = Ae10, be = be10)\n",
    "try:\n",
    "    print('Optimal Value: ', result100[0]['Optimal Value'])\n",
    "except:\n",
    "    print('Optimal Value: ', result100[0])"
   ]
  },
  {
   "cell_type": "markdown",
   "metadata": {},
   "source": [
    "### Example 7"
   ]
  },
  {
   "cell_type": "code",
   "execution_count": 41,
   "metadata": {},
   "outputs": [],
   "source": [
    "c11 = np.random.randint(-10, 10, 70)\n",
    "Al11 = np.random.randint(0, 15, size=(50, 70))\n",
    "bl11 = np.random.randint(0, 20, 50)\n",
    "Ag11 = np.random.randint(0, 15, size=(50, 70))\n",
    "bg11 = np.random.randint(0, 20, 50)\n",
    "Ae11 = np.random.randint(0, 15, size=(50, 70))\n",
    "be11 = np.random.randint(0, 20, 50)"
   ]
  },
  {
   "cell_type": "code",
   "execution_count": 42,
   "metadata": {},
   "outputs": [
    {
     "name": "stdout",
     "output_type": "stream",
     "text": [
      "Objective Value =  inf\n"
     ]
    }
   ],
   "source": [
    "x11 = cp.Variable(len(c11))\n",
    "objective11 = cp.Minimize(f(x11, c11))\n",
    "constraints11 = [g(x11, Al11, bl11) <= 0, g(x11, Ag11, bg11) >= 0, g(x11, Ae11, be11) == 0 ,x11>=0]\n",
    "LP11 = cp.Problem(objective11, constraints11)\n",
    "res11 = LP11.solve(solver = cp.CPLEX)\n",
    "print('Objective Value = ', res11)"
   ]
  },
  {
   "cell_type": "code",
   "execution_count": 43,
   "metadata": {},
   "outputs": [
    {
     "name": "stdout",
     "output_type": "stream",
     "text": [
      "No Feasible Solution\n",
      "Optimal Value:  inf\n"
     ]
    }
   ],
   "source": [
    "result11 = splx(c11, Al11, bl11, Ag = Ag11, bg = bg11, Ae = Ae11, be = be11, Big_M=True)\n",
    "try:\n",
    "    print('Optimal Value: ', result11[0]['Optimal Value'])\n",
    "except:\n",
    "    print('Optimal Value: ', result11[0])"
   ]
  },
  {
   "cell_type": "code",
   "execution_count": 44,
   "metadata": {},
   "outputs": [
    {
     "name": "stdout",
     "output_type": "stream",
     "text": [
      "No Feasible Solution\n",
      "Optimal Value:  inf\n"
     ]
    }
   ],
   "source": [
    "result111 = splx(c11, Al11, bl11, Ag = Ag11, bg = bg11, Ae = Ae11, be = be11)\n",
    "try:\n",
    "    print('Optimal Value: ', result111[0]['Optimal Value'])\n",
    "except:\n",
    "    print('Optimal Value: ', result111[0])"
   ]
  },
  {
   "cell_type": "code",
   "execution_count": null,
   "metadata": {},
   "outputs": [],
   "source": []
  }
 ],
 "metadata": {
  "interpreter": {
   "hash": "88279d2366fe020547cde40dd65aa0e3aa662a6ec1f3ca12d88834876c85e1a6"
  },
  "kernelspec": {
   "display_name": "Python 3.9.7 ('base')",
   "language": "python",
   "name": "python3"
  },
  "language_info": {
   "codemirror_mode": {
    "name": "ipython",
    "version": 3
   },
   "file_extension": ".py",
   "mimetype": "text/x-python",
   "name": "python",
   "nbconvert_exporter": "python",
   "pygments_lexer": "ipython3",
   "version": "3.9.7"
  },
  "orig_nbformat": 4
 },
 "nbformat": 4,
 "nbformat_minor": 2
}
