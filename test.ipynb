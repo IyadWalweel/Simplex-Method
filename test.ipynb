{
 "cells": [
  {
   "cell_type": "markdown",
   "metadata": {},
   "source": [
    "# Testing \"My Solver\" depending on CVXPY "
   ]
  },
  {
   "cell_type": "code",
   "execution_count": 1,
   "metadata": {},
   "outputs": [],
   "source": [
    "from Simplex.Simplex_Solver import simplex as splx\n",
    "import numpy as np\n",
    "import cvxpy as cp\n",
    "from tabulate import tabulate"
   ]
  },
  {
   "cell_type": "code",
   "execution_count": 2,
   "metadata": {},
   "outputs": [],
   "source": [
    "# Objective \n",
    "def f(X, c):\n",
    "    return c@X"
   ]
  },
  {
   "cell_type": "code",
   "execution_count": 3,
   "metadata": {},
   "outputs": [],
   "source": [
    "# Constraints\n",
    "def g(X, A, b):\n",
    "    L = A@X - b\n",
    "    return L"
   ]
  },
  {
   "cell_type": "markdown",
   "metadata": {},
   "source": [
    "## $1^{st}$ Problem \n",
    "$$\\min_{x \\in \\mathbb{R}^4, x \\geq 0} -7x_1 - 9x_2 - 18x_3 -17x_4$$\n",
    "subject to:- \n",
    "$$\\begin{cases} 2x_1 + 4x_2 + 5x_3 + 7x_4 \\leq 41  \\\\ x_1 + x_2 + 2x_3 + 2x_4 \\leq 17 \\\\ x_1 + 2x_2 + 3x_3 + 3x_4 \\leq 24\\end{cases}$$"
   ]
  },
  {
   "cell_type": "code",
   "execution_count": 4,
   "metadata": {},
   "outputs": [],
   "source": [
    "c1 = np.array([-7, -9, -18, -17])\n",
    "Al1 = np.array([[2,4,6,7],[1,1,2,2],[1,2,3,3]])\n",
    "bl1 = np.array([41,17,24])"
   ]
  },
  {
   "cell_type": "code",
   "execution_count": 5,
   "metadata": {},
   "outputs": [
    {
     "name": "stdout",
     "output_type": "stream",
     "text": [
      "Objective Value =  -133.0\n",
      "Solution:  [10.   0.   3.5  0. ]\n",
      "Dual Solution:  [ 2.  3. -0.]\n"
     ]
    }
   ],
   "source": [
    "x1 = cp.Variable(len(c1))\n",
    "objective1 = cp.Minimize(f(x1, c1))\n",
    "constraints1 = [g(x1, Al1, bl1) <= 0, x1>=0]\n",
    "LP1 = cp.Problem(objective1, constraints1)\n",
    "res1 = LP1.solve(solver = cp.CPLEX)\n",
    "print('Objective Value = ', res1)\n",
    "print('Solution: ', x1.value)\n",
    "print('Dual Solution: ', constraints1[0].dual_value)"
   ]
  },
  {
   "cell_type": "code",
   "execution_count": 6,
   "metadata": {},
   "outputs": [
    {
     "name": "stdout",
     "output_type": "stream",
     "text": [
      "--------\n",
      "Solution\n",
      "-133.0\n",
      "3.5\n",
      "10.0\n",
      "3.5\n",
      "--------\n"
     ]
    }
   ],
   "source": [
    "result1, table1, X1, Y1, F1, ite1 = splx(c1, Al1, bl1)\n",
    "print(tabulate(table1[0:, [-1]]))"
   ]
  },
  {
   "cell_type": "markdown",
   "metadata": {},
   "source": [
    "## $2^{nd}$ Problem \n",
    "$$\\max ~ 5x_1 + 12x_2 + 4x_3$$\n",
    "subject to:- \n",
    "$$\\begin{cases} x_1 + 2x_2 + x_3 \\leq 10  \\\\ 2x_1 - x_2 + 3x_3 = 8 \\end{cases}$$"
   ]
  },
  {
   "cell_type": "code",
   "execution_count": 7,
   "metadata": {},
   "outputs": [],
   "source": [
    "c2 = np.array([5,12,4])\n",
    "Al2 = np.array([1,2,1])\n",
    "bl2 = np.array([10])\n",
    "Ae2 = np.array([2,-1,3])\n",
    "be2 = np.array([8])"
   ]
  },
  {
   "cell_type": "code",
   "execution_count": 8,
   "metadata": {},
   "outputs": [
    {
     "name": "stdout",
     "output_type": "stream",
     "text": [
      "Objective Value =  54.8\n",
      "Solution:  [5.2 2.4 0. ]\n",
      "Dual Solution:  [array([5.8]), array([-0.4])]\n"
     ]
    }
   ],
   "source": [
    "x2 = cp.Variable(len(c2))\n",
    "objective2 = cp.Maximize(f(x2, c2))\n",
    "constraints2 = [g(x2, Al2, bl2) <= 0, g(x2, Ae2, be2) == 0 ,x2>=0]\n",
    "LP2 = cp.Problem(objective2, constraints2)\n",
    "res2 = LP2.solve(solver = cp.CPLEX)\n",
    "print('Objective Value = ', res2)\n",
    "print('Solution: ', x2.value)\n",
    "print('Dual Solution: ', [constraints2[0].dual_value, constraints2[1].dual_value])"
   ]
  },
  {
   "cell_type": "code",
   "execution_count": 9,
   "metadata": {},
   "outputs": [
    {
     "name": "stdout",
     "output_type": "stream",
     "text": [
      "55\n",
      "55\n",
      "{'Optimal Value': 54.8, 'Optimal Solution': array([5.2, 2.4, 0. ]), 'Associated Dual Solution': array([5.8, -0.4000000000000006], dtype=object), 'Number of Iterations': 3}\n"
     ]
    }
   ],
   "source": [
    "result2, table2, X2, Y2, F2, ite2 = splx(c2, Al2, bl2, Ae=Ae2, be=be2, Big_M = True, obj = 'Max')\n",
    "print(result2)"
   ]
  },
  {
   "cell_type": "code",
   "execution_count": 10,
   "metadata": {},
   "outputs": [
    {
     "name": "stdout",
     "output_type": "stream",
     "text": [
      "[0. 4.]\n",
      "c =  [ 5 12  4]\n",
      "O =  [ 0.  5. 12.  4.  0.  0.  0.]\n",
      "1\n",
      "C =  [-4.0]\n",
      "1\n",
      "I =  [3]\n",
      "Entering =  ['x3']\n",
      "Xs =  ['x3']\n",
      "EI =  [2]\n",
      "Phase2:- \n",
      "-----\n",
      "Basic\n",
      "z\n",
      "s1\n",
      "x3\n",
      "-----\n",
      "-----  ------------------  ------------------  ---  ---  ----  -------------------\n",
      "Basic  x1                  x2                  x3   s1   R1    Solution\n",
      "z      2.3333333333333335  13.333333333333334  0.0  0.0  -inf  -10.666666666666666\n",
      "-----  ------------------  ------------------  ---  ---  ----  -------------------\n",
      "{'Optimal Value': 54.8, 'Optimal Solution': array([5.2, 2.4, 0. ]), 'Associated Dual Solution': array([5.8, -0.4000000000000006], dtype=object), 'Number of Iterations': 2}\n"
     ]
    }
   ],
   "source": [
    "result22, table22, X22, Y22, F22, ite22 = splx(c2, Al2, bl2, Ae=Ae2, be=be2, obj = 'Max')\n",
    "print(result22)"
   ]
  },
  {
   "cell_type": "markdown",
   "metadata": {},
   "source": [
    "## $3^{rd}$ Problem \n",
    "$$\\min ~ 4x_1 + x_2 $$\n",
    "subject to:- \n",
    "$$\\begin{cases} 3x_1 + x_2 = 3  \\\\ 4x_1 + 3x_2 \\geq 6 \\\\ x_1 + 2x_2 \\leq 4 \\end{cases}$$"
   ]
  },
  {
   "cell_type": "code",
   "execution_count": 11,
   "metadata": {},
   "outputs": [],
   "source": [
    "c3 = np.array([4,1])\n",
    "Al3 = np.array([1,2])\n",
    "bl3 = np.array([4])\n",
    "Ag3 = np.array([4,3])\n",
    "bg3 = np.array([6])\n",
    "Ae3 = np.array([3,1])\n",
    "be3 = np.array([3])"
   ]
  },
  {
   "cell_type": "code",
   "execution_count": 12,
   "metadata": {},
   "outputs": [
    {
     "name": "stdout",
     "output_type": "stream",
     "text": [
      "Objective Value =  3.4000000000000004\n",
      "Solution:  [0.4 1.8]\n",
      "Dual Solution:  [array([0.2]), array([-0.]), array([-1.4])]\n"
     ]
    }
   ],
   "source": [
    "x3 = cp.Variable(len(c3))\n",
    "objective3 = cp.Minimize(f(x3, c3))\n",
    "constraints3 = [g(x3, Al3, bl3) <= 0, g(x3, Ag3, bg3) >= 0, g(x3, Ae3, be3) == 0 ,x3>=0]\n",
    "LP3 = cp.Problem(objective3, constraints3)\n",
    "res3 = LP3.solve(solver = cp.CPLEX)\n",
    "print('Objective Value = ', res3)\n",
    "print('Solution: ', x3.value)\n",
    "print('Dual Solution: ', [constraints3[0].dual_value, constraints3[1].dual_value, constraints3[2].dual_value])"
   ]
  },
  {
   "cell_type": "code",
   "execution_count": 13,
   "metadata": {},
   "outputs": [
    {
     "name": "stdout",
     "output_type": "stream",
     "text": [
      "3\n",
      "3\n",
      "{'Optimal Value': 3.3999999999999915, 'Optimal Solution': array([0.4, 1.8]), 'Associated Dual Solution': array([0.19999999999999996, -0.0, -1.3999999999999997], dtype=object), 'Number of Iterations': 3}\n"
     ]
    }
   ],
   "source": [
    "result3, table3, X3, Y3, F3, ite3 = splx(c3, Al3, bl3, Ag3, bg3, Ae3, be3, Big_M = True)\n",
    "print(result3)"
   ]
  },
  {
   "cell_type": "code",
   "execution_count": 14,
   "metadata": {},
   "outputs": [
    {
     "name": "stdout",
     "output_type": "stream",
     "text": [
      "[ 0. -1. -4.]\n",
      "c =  [4 1]\n",
      "O =  [ 0. -4. -1.  0.  0.  0.  0.  0.]\n",
      "2\n",
      "C =  [4.0, 1.0]\n",
      "2\n",
      "I =  [4, 3]\n",
      "Entering =  ['x1', 'x2']\n",
      "Xs =  ['x1', 'x2']\n",
      "EI =  [0, 1]\n",
      "Phase2:- \n",
      "-----\n",
      "Basic\n",
      "z\n",
      "s1\n",
      "x2\n",
      "x1\n",
      "-----\n",
      "-----  ---  ---  -------------------  ---  ----  ----  ------------------\n",
      "Basic  x1   x2   p1                   s1   R1    R2    Solution\n",
      "z      0.0  0.0  0.20000000000000018  0.0  -inf  -inf  3.6000000000000005\n",
      "-----  ---  ---  -------------------  ---  ----  ----  ------------------\n",
      "{'Optimal Value': 3.4000000000000004, 'Optimal Solution': array([0.4, 1.8]), 'Associated Dual Solution': array([0.19999999999999996, -0.0, -1.3999999999999997], dtype=object), 'Number of Iterations': 1}\n"
     ]
    }
   ],
   "source": [
    "result33, table33, X33, Y33, F33, ite33 = splx(c3, Al3, bl3, Ag3, bg3, Ae3, be3)\n",
    "print(result33)"
   ]
  },
  {
   "cell_type": "markdown",
   "metadata": {},
   "source": [
    "## $4^{th}$ Problem (Infeasible Solution)\n",
    "$$\\max ~ 3x_1 + 2x_2 $$\n",
    "subject to:- \n",
    "$$\\begin{cases} 2x_1 + x_2 \\leq 2  \\\\ 3x_1 + 4x_2 \\geq 12 \\end{cases}$$"
   ]
  },
  {
   "cell_type": "code",
   "execution_count": 15,
   "metadata": {},
   "outputs": [],
   "source": [
    "c4 = np.array([3,2])\n",
    "Al4 = np.array([2,1])\n",
    "bl4 = np.array([2])\n",
    "Ag4 = np.array([3,4])\n",
    "bg4 = np.array([12])"
   ]
  },
  {
   "cell_type": "code",
   "execution_count": 16,
   "metadata": {},
   "outputs": [
    {
     "name": "stdout",
     "output_type": "stream",
     "text": [
      "404\n",
      "4\n",
      "No Feasible Solution\n",
      "None\n"
     ]
    }
   ],
   "source": [
    "result4, table4, X4, Y4, F4, ite4 = splx(c4, Al4, bl4, Ag4, bg4, Big_M = True)\n",
    "print(result4)"
   ]
  },
  {
   "cell_type": "code",
   "execution_count": 17,
   "metadata": {},
   "outputs": [
    {
     "name": "stdout",
     "output_type": "stream",
     "text": [
      "[-2.  0.]\n",
      "c =  [3 2]\n",
      "O =  [ 0. -3. -2.  0.  0.  0.  0.]\n",
      "1\n",
      "C =  [2.0]\n",
      "1\n",
      "I =  [2]\n",
      "Entering =  ['x2']\n",
      "Xs =  ['x2']\n",
      "EI =  [1]\n",
      "No Feasible Solution\n",
      "None\n"
     ]
    }
   ],
   "source": [
    "result44, table44, X44, Y44, F44, ite44 = splx(c4, Al4, bl4, Ag4, bg4)\n",
    "print(result44)"
   ]
  },
  {
   "cell_type": "markdown",
   "metadata": {},
   "source": [
    "## Random Inputs"
   ]
  },
  {
   "cell_type": "markdown",
   "metadata": {},
   "source": [
    "### Example 1"
   ]
  },
  {
   "cell_type": "code",
   "execution_count": 18,
   "metadata": {},
   "outputs": [],
   "source": [
    "c5 = np.random.randint(-100, 100, 300)\n",
    "Al5 = np.random.randint(0, 15, size=(150, 300))\n",
    "bl5 = np.random.randint(0, 20, 150)"
   ]
  },
  {
   "cell_type": "code",
   "execution_count": 19,
   "metadata": {},
   "outputs": [
    {
     "name": "stdout",
     "output_type": "stream",
     "text": [
      "Objective Value =  0.0\n"
     ]
    }
   ],
   "source": [
    "x5 = cp.Variable(len(c5))\n",
    "objective5 = cp.Minimize(f(x5, c5))\n",
    "constraints5 = [g(x5, Al5, bl5) <= 0, x5>=0]\n",
    "LP5 = cp.Problem(objective5, constraints5)\n",
    "res5 = LP5.solve(solver = cp.CPLEX)\n",
    "print('Objective Value = ', res5)\n",
    "# print('Solution: ', x5.value)\n",
    "# print('Dual Solution: ', constraints5[0].dual_value)"
   ]
  },
  {
   "cell_type": "code",
   "execution_count": 20,
   "metadata": {},
   "outputs": [
    {
     "name": "stdout",
     "output_type": "stream",
     "text": [
      "Optimal Value:  0.0\n"
     ]
    }
   ],
   "source": [
    "result5 = splx(c5, Al5, bl5)\n",
    "# print(result5)\n",
    "print('Optimal Value: ', result5[0]['Optimal Value'])\n",
    "# print('Dual Solution: ', result5[3][-1])"
   ]
  },
  {
   "cell_type": "markdown",
   "metadata": {},
   "source": [
    "### Example 2"
   ]
  },
  {
   "cell_type": "code",
   "execution_count": 21,
   "metadata": {},
   "outputs": [],
   "source": [
    "c6 = np.random.randint(0, 5, 20)\n",
    "Ag6 = np.random.randint(-10, 15, size=(30, 20))\n",
    "bg6 = np.random.randint(0, 20, 30)"
   ]
  },
  {
   "cell_type": "code",
   "execution_count": 22,
   "metadata": {},
   "outputs": [
    {
     "name": "stdout",
     "output_type": "stream",
     "text": [
      "Objective Value =  5.309589923126941\n"
     ]
    }
   ],
   "source": [
    "x6 = cp.Variable(len(c6))\n",
    "objective6 = cp.Minimize(f(x6, c6))\n",
    "constraints6 = [g(x6, Ag6, bg6) >= 0, x6>=0]\n",
    "LP6 = cp.Problem(objective6, constraints6)\n",
    "res6 = LP6.solve(solver = cp.CPLEX)\n",
    "print('Objective Value = ', res6)\n",
    "# print('Solution: ', x6.value)\n",
    "# print('Dual Solution: ', constraints6[0].dual_value)"
   ]
  },
  {
   "cell_type": "code",
   "execution_count": 23,
   "metadata": {},
   "outputs": [
    {
     "name": "stdout",
     "output_type": "stream",
     "text": [
      "5\n",
      "5\n",
      "Optimal Value:  5.309589923151851\n"
     ]
    }
   ],
   "source": [
    "result6 = splx(c6, Ag = Ag6, bg = bg6, Big_M=True)\n",
    "# print(result6)\n",
    "if (result6[0]['Optimal Value']) is not None:\n",
    "    print('Optimal Value: ', result6[0]['Optimal Value'])\n",
    "else:\n",
    "    print('None')\n",
    "\n",
    "# print('Dual Solution: ', result6[3][-1])"
   ]
  },
  {
   "cell_type": "code",
   "execution_count": 24,
   "metadata": {},
   "outputs": [
    {
     "name": "stdout",
     "output_type": "stream",
     "text": [
      "[ 0.  0. -4. -1. -3.  0.  0. -2. -2.  0.  0.  0.  0. -1.  0.  0.  0. -1.\n",
      " -4.  0.  0.  0.  0.  0.  0.  0. -1. -1.  0.  0.]\n",
      "c =  [0 2 0 4 0 1 0 4 1 1 0 3 4 1 3 1 2 0 2 2]\n",
      "O =  [ 0.  0. -2.  0. -4.  0. -1.  0. -4. -1. -1.  0. -3. -4. -1. -3. -1. -2.\n",
      "  0. -2. -2.  0.  0.  0.  0.  0.  0.  0.  0.  0.  0.  0.  0.  0.  0.  0.\n",
      "  0.  0.  0.  0.  0.  0.  0.  0.  0.  0.  0.  0.  0.  0.  0.  0.  0.  0.\n",
      "  0.  0.  0.  0.  0.  0.  0.  0.  0.  0.  0.  0.  0.  0.  0.  0.  0.  0.\n",
      "  0.  0.  0.  0.  0.  0.  0.  0.  0.  0.]\n",
      "30\n",
      "C =  [1.0, 1.0, 1.0, 1.0, 4.0, -0.0, 4.0, -0.0, 3.0, -0.0, 3.0, -0.0, -0.0, -0.0, -0.0, -0.0, 1.0, -0.0, -0.0, -0.0, 4.0, -0.0, -0.0, 2.0, -0.0, -0.0, -0.0, 2.0, 2.0, -0.0]\n",
      "30\n",
      "I =  [4, 29, 28, 8, 19, 2, 23, 25, 13, 22, 15, 14, 26, 20, 17, 3, 24, 6, 31, 7, 12, 5, 27, 21, 16, 11, 18, 10, 9, 30]\n",
      "Entering =  ['x4', 'x14', 'x9', 'p20', 'x6', 'p16', 'p28', 'p1', 'x1', 'p17', 'x16', 'p7', 'x7', 'x8', 'p2', 'p12', 'p19', 'x12', 'p3', 'p25', 'p30', 'x10', 'p24', 'p6', 'p15', 'x3', 'x5', 'x20', 'x17', 'p13']\n",
      "Xs =  ['x4', 'x14', 'x9', 'x6', 'x1', 'x16', 'x7', 'x8', 'x12', 'x10', 'x3', 'x5', 'x20', 'x17']\n",
      "EI =  [3, 13, 8, 5, 0, 15, 6, 7, 11, 9, 2, 4, 19, 16]\n",
      "Phase2:- \n",
      "-----\n",
      "Basic\n",
      "z\n",
      "p16\n",
      "p12\n",
      "x4\n",
      "x10\n",
      "x12\n",
      "p25\n",
      "p20\n",
      "x17\n",
      "x20\n",
      "x3\n",
      "p30\n",
      "x1\n",
      "p7\n",
      "x16\n",
      "p15\n",
      "p2\n",
      "x5\n",
      "x6\n",
      "x8\n",
      "p6\n",
      "p17\n",
      "p28\n",
      "p19\n",
      "p1\n",
      "x7\n",
      "p24\n",
      "x9\n",
      "x14\n",
      "p13\n",
      "p3\n",
      "-----\n",
      "-----  ---  -------------------  ---  ---  ---  ---  ---  ---  ---  ---  -----------------  ---  ------------------  ---  ------------------  ---  ---  ------------------  -------------------  ---  ---  ---  ---  --------------------  --------------------  ---  ---  ------------------  -------------------  --------------------  -------------------  ---  ---  -------------------  ---  ---  ---  ------------------  ---  ---  --------------------  --------------------  --------------------  ---  ---  -------------------  ---------------------  ---  --------------------  ---  ----  ----  ----  ----  ----  ----  ----  ----  ----  ----  ----  ----  ----  ----  ----  ----  ----  ----  ----  ----  ----  ----  ----  ----  ----  ----  ----  ----  ----  ----  -----------------\n",
      "Basic  x1   x2                   x3   x4   x5   x6   x7   x8   x9   x10  x11                x12  x13                 x14  x15                 x16  x17  x18                 x19                  x20  p1   p2   p3   p4                    p5                    p6   p7   p8                  p9                   p10                   p11                  p12  p13  p14                  p15  p16  p17  p18                 p19  p20  p21                   p22                   p23                   p24  p25  p26                  p27                    p28  p29                   p30  R1    R2    R3    R4    R5    R6    R7    R8    R9    R10   R11   R12   R13   R14   R15   R16   R17   R18   R19   R20   R21   R22   R23   R24   R25   R26   R27   R28   R29   R30   Solution\n",
      "z      0.0  -1.2901206445153133  0.0  0.0  0.0  0.0  0.0  0.0  0.0  0.0  -5.91305574144352  0.0  -4.781287731128174  0.0  -8.377649065834852  0.0  0.0  -2.861921787455263  -2.9595673922151264  0.0  0.0  0.0  0.0  0.023457620559765444  -0.11150428371093882  0.0  0.0  0.0895459708346603  -0.3346642030562114  -0.06760972717973426  0.04426940846808446  0.0  0.0  0.05558158775768325  0.0  0.0  0.0  0.2228457540234774  0.0  0.0  -0.31248797862967587  0.015446481345709282  -0.12354605583173126  0.0  0.0  0.12593518004978607  -0.004128890721572073  0.0  -0.11172715945680403  0.0  -inf  -inf  -inf  -inf  -inf  -inf  -inf  -inf  -inf  -inf  -inf  -inf  -inf  -inf  -inf  -inf  -inf  -inf  -inf  -inf  -inf  -inf  -inf  -inf  -inf  -inf  -inf  -inf  -inf  -inf  9.942096209648554\n",
      "-----  ---  -------------------  ---  ---  ---  ---  ---  ---  ---  ---  -----------------  ---  ------------------  ---  ------------------  ---  ---  ------------------  -------------------  ---  ---  ---  ---  --------------------  --------------------  ---  ---  ------------------  -------------------  --------------------  -------------------  ---  ---  -------------------  ---  ---  ---  ------------------  ---  ---  --------------------  --------------------  --------------------  ---  ---  -------------------  ---------------------  ---  --------------------  ---  ----  ----  ----  ----  ----  ----  ----  ----  ----  ----  ----  ----  ----  ----  ----  ----  ----  ----  ----  ----  ----  ----  ----  ----  ----  ----  ----  ----  ----  ----  -----------------\n",
      "Optimal Value:  5.309589923126348\n"
     ]
    }
   ],
   "source": [
    "result66 = splx(c6, Ag = Ag6, bg = bg6)\n",
    "# print(result66)\n",
    "if (result66[0]['Optimal Value']) is not None:\n",
    "    print('Optimal Value: ', result66[0]['Optimal Value'])\n",
    "else:\n",
    "    print('None')"
   ]
  },
  {
   "cell_type": "code",
   "execution_count": 45,
   "metadata": {},
   "outputs": [
    {
     "name": "stdout",
     "output_type": "stream",
     "text": [
      "Dual Solution:  [-0.          0.03233936 -0.         -0.         -0.         -0.\n",
      " -0.         -0.         -0.          0.06384646 -0.         -0.\n",
      "  0.10125927  0.05252242 -0.          0.01352802 -0.         -0.\n",
      " -0.         -0.          0.00448426 -0.         -0.          0.02551255\n",
      " -0.         -0.          0.10420599 -0.          0.06691883 -0.        ]\n"
     ]
    }
   ],
   "source": [
    "print('Dual Solution: ', constraints6[0].dual_value)"
   ]
  },
  {
   "cell_type": "code",
   "execution_count": 46,
   "metadata": {},
   "outputs": [
    {
     "name": "stdout",
     "output_type": "stream",
     "text": [
      "Dual Solution:  [0.0 -0.0323393614692102 0.0 0.0 0.0 0.0 0.0 0.0 0.0 -0.06384646417062217\n",
      " 0.0 0.0 -0.1012592679818052 -0.05252242302381881 0.0 -0.01352802370128224\n",
      " 0.0 0.0 0.0 0.0 -0.004484262006160541 0.0 0.0 -0.025512551948395478 0.0\n",
      " 0.0 -0.10420599453367521 0.0 -0.0669188281579772 0.0]\n"
     ]
    }
   ],
   "source": [
    "print('Dual Solution: ', result6[3][-1])"
   ]
  },
  {
   "cell_type": "code",
   "execution_count": 47,
   "metadata": {},
   "outputs": [
    {
     "name": "stdout",
     "output_type": "stream",
     "text": [
      "Dual Solution:  [0.0 -0.0323393614692102 0.0 0.0 0.0 0.0 0.0 0.0 0.0 -0.06384646417062217\n",
      " 0.0 0.0 -0.1012592679818052 -0.05252242302381881 0.0 -0.01352802370128224\n",
      " 0.0 0.0 0.0 0.0 -0.004484262006160541 0.0 0.0 -0.025512551948395478 0.0\n",
      " 0.0 -0.10420599453367521 0.0 -0.0669188281579772 0.0]\n"
     ]
    }
   ],
   "source": [
    "print('Dual Solution: ', result66[3][-1])"
   ]
  },
  {
   "cell_type": "markdown",
   "metadata": {},
   "source": [
    "### Example 3"
   ]
  },
  {
   "cell_type": "code",
   "execution_count": 25,
   "metadata": {},
   "outputs": [],
   "source": [
    "c7 = np.random.randint(-10, 10, 100)\n",
    "Ae7 = np.random.randint(0, 15, size=(100, 100))\n",
    "be7 = np.random.randint(0, 20, 100)"
   ]
  },
  {
   "cell_type": "code",
   "execution_count": 26,
   "metadata": {},
   "outputs": [
    {
     "name": "stdout",
     "output_type": "stream",
     "text": [
      "Objective Value =  -inf\n",
      "Solution:  None\n"
     ]
    }
   ],
   "source": [
    "x7 = cp.Variable(len(c7))\n",
    "objective7 = cp.Maximize(f(x7, c7))\n",
    "constraints7 = [g(x7, Ae7, be7) == 0, x7>=0]\n",
    "LP7 = cp.Problem(objective7, constraints7)\n",
    "res7 = LP7.solve(solver = cp.CPLEX)\n",
    "print('Objective Value = ', res7)\n",
    "print('Solution: ', x7.value)\n",
    "# print('Dual Solution: ', constraints7[0].dual_value)"
   ]
  },
  {
   "cell_type": "code",
   "execution_count": 27,
   "metadata": {},
   "outputs": [
    {
     "name": "stdout",
     "output_type": "stream",
     "text": [
      "84800\n",
      "0\n",
      "No Feasible Solution\n",
      "None\n"
     ]
    }
   ],
   "source": [
    "result7 = splx(c7, Ae = Ae7, be = be7, Big_M=True)\n",
    "# print(result7)\n",
    "if (result7[0]) is not None:\n",
    "    print('Optimal Value: ', result7[0]['Optimal Value'])\n",
    "else:\n",
    "    print('None')"
   ]
  },
  {
   "cell_type": "code",
   "execution_count": 28,
   "metadata": {},
   "outputs": [
    {
     "name": "stdout",
     "output_type": "stream",
     "text": [
      "[ 6.  0.  0.  0.  0.  0.  0.  0.  0.  0.  0.  0.  0.  0.  0.  0.  0.  0.\n",
      "  0.  0.  0.  0.  0.  0.  0.  0.  0.  0.  0.  0.  0. -4.  0.  0.  0.  0.\n",
      "  0.  0.  0.  0.  0.  0.  0.  0.  0.  0.  0.  0.  0.  0.  0.  0.  1.  0.\n",
      "  0.  0.  0.  0.  0.  0.  0.  0.  0.  0.  0.  0.  0.  0.  0.  0.  0.  0.\n",
      "  0.  0.  0.  0.  0.  0.  0.  0.  0.  0.  0.  0.  0.  0.  0.  0.  0.  0.\n",
      "  0.  0.  0.  0.  0.  0.  0.  0.  0.  0.]\n",
      "c =  [ -9  -3  -3   2   2  -6   1  -3   1  -6  -6  -7  -3  -8  -5  -4  -1   0\n",
      "  -6   1  -6  -1  -8   7   7   7   1  -7  -6   4  -1  -6   7  -5   8  -4\n",
      "   6   4   2 -10   9   3   4  -5   7   5  -7   5   5  -8  -4   7  -2   4\n",
      "   5  -8  -7  -5   7   7  -7 -10   8  -6   5   6   8   5   6  -6 -10  -8\n",
      "   6 -10   6  -5   0   9   5   3   2  -3   9   3   0   9   0   3   8   2\n",
      "  -6   8  -8  -3   5   4   8   3   4   1]\n",
      "O =  [ 0.  9.  3.  3. -2. -2.  6. -1.  3. -1.  6.  6.  7.  3.  8.  5.  4.  1.\n",
      "  0.  6. -1.  6.  1.  8. -7. -7. -7. -1.  7.  6. -4.  1.  6. -7.  5. -8.\n",
      "  4. -6. -4. -2. 10. -9. -3. -4.  5. -7. -5.  7. -5. -5.  8.  4. -7.  2.\n",
      " -4. -5.  8.  7.  5. -7. -7.  7. 10. -8.  6. -5. -6. -8. -5. -6.  6. 10.\n",
      "  8. -6. 10. -6.  5.  0. -9. -5. -3. -2.  3. -9. -3.  0. -9.  0. -3. -8.\n",
      " -2.  6. -8.  8.  3. -5. -4. -8. -3. -4. -1.  0.  0.  0.  0.  0.  0.  0.\n",
      "  0.  0.  0.  0.  0.  0.  0.  0.  0.  0.  0.  0.  0.  0.  0.  0.  0.  0.\n",
      "  0.  0.  0.  0.  0.  0.  0.  0.  0.  0.  0.  0.  0.  0.  0.  0.  0.  0.\n",
      "  0.  0.  0.  0.  0.  0.  0.  0.  0.  0.  0.  0.  0.  0.  0.  0.  0.  0.\n",
      "  0.  0.  0.  0.  0.  0.  0.  0.  0.  0.  0.  0.  0.  0.  0.  0.  0.  0.\n",
      "  0.  0.  0.  0.  0.  0.  0.  0.  0.  0.  0.  0.  0.  0.  0.  0.  0.  0.\n",
      "  0.  0.  0.  0.]\n",
      "3\n",
      "C =  [4.0, -6.0, -1.0]\n",
      "3\n",
      "I =  [33, 2, 54]\n",
      "Entering =  ['x30', 'x21', 'x31']\n",
      "Xs =  ['x30', 'x21', 'x31']\n",
      "EI =  [29, 20, 30]\n",
      "No Feasible Solution\n",
      "None\n"
     ]
    }
   ],
   "source": [
    "result77 = splx(c7, Ae = Ae7, be = be7)\n",
    "# print(result77)\n",
    "if (result77[0]) is not None:\n",
    "    print('Optimal Value: ', result77[0]['Optimal Value'])\n",
    "else:\n",
    "    print('None')"
   ]
  },
  {
   "cell_type": "markdown",
   "metadata": {},
   "source": [
    "### Example 4"
   ]
  },
  {
   "cell_type": "code",
   "execution_count": 29,
   "metadata": {},
   "outputs": [],
   "source": [
    "c8 = np.random.randint(-10, 10, 200)\n",
    "Al8 = np.random.randint(-15, 15, size=(150, 200))\n",
    "bl8 = np.random.randint(0, 20, 150)\n",
    "Ag8 = np.random.randint(-15, 15, size=(150, 200))\n",
    "bg8 = np.random.randint(0, 20, 150)"
   ]
  },
  {
   "cell_type": "code",
   "execution_count": 30,
   "metadata": {},
   "outputs": [
    {
     "name": "stdout",
     "output_type": "stream",
     "text": [
      "Objective Value =  -inf\n",
      "Solution:  None\n"
     ]
    }
   ],
   "source": [
    "x8 = cp.Variable(len(c8))\n",
    "objective8 = cp.Maximize(f(x8, c8))\n",
    "constraints8 = [g(x8, Al8, bl8) <= 0, g(x8, Ag8, bg8) >= 0, x8>=0]\n",
    "LP8 = cp.Problem(objective8, constraints8)\n",
    "res8 = LP8.solve(solver = cp.CPLEX)\n",
    "print('Objective Value = ', res8)\n",
    "print('Solution: ', x8.value)\n",
    "# print('Dual Solution: ', [constraints8[0].dual_value, constraints8[1].dual_value])"
   ]
  },
  {
   "cell_type": "code",
   "execution_count": 31,
   "metadata": {},
   "outputs": [
    {
     "name": "stdout",
     "output_type": "stream",
     "text": [
      "95730\n",
      "1\n",
      "No Feasible Solution\n",
      "None\n"
     ]
    }
   ],
   "source": [
    "result8 = splx(c8, Al8, bl8, Ag = Ag8, bg = bg8, Big_M=True)\n",
    "# print(result8)\n",
    "if (result8[0]) is not None:\n",
    "    print('Optimal Value: ', result8[0]['Optimal Value'])\n",
    "else:\n",
    "    print('None')"
   ]
  },
  {
   "cell_type": "code",
   "execution_count": 32,
   "metadata": {},
   "outputs": [
    {
     "name": "stdout",
     "output_type": "stream",
     "text": [
      "[ 0.  0.  0.  0.  0.  0.  8.  0. -8.  0.  0.  0.  0.  0.  0.  0.  0.  0.\n",
      "  0.  0.  0.  0.  0.  0.  0.  0.  0.  0.  0. -2.  0.  0.  0. -8.  0.  0.\n",
      "  0.  0.  0.  0.  0.  0.  0.  0.  0.  0.  0.  0.  0.  0.  0.  0.  0.  0.\n",
      "  0.  0. -3.  0.  0.  7.  0.  0.  0.  0. -4.  0.  0. -7.  3. -4.  0.  0.\n",
      "  0.  0.  0.  0.  0.  0.  0.  0.  0. -2.  0. -4.  0.  0.  0.  0.  0.  0.\n",
      "  0.  0. -9.  0.  0.  0.  0.  0.  0.  0.  0.  0.  0.  0.  0.  0.  0.  0.\n",
      " -7.  0.  0.  0.  0.  0.  0. -6.  0.  0.  9.  0.  0.  0.  0.  0.  0.  0.\n",
      "  0.  0.  0.  0.  0.  0.  0. 10.  0.  0.  0.  0.  0.  0.  0.  0.  0.  0.\n",
      "  0.  0.  0.  0.  0.  0.  0. -1.  5.  0.  0. -3.  0.  7. -4.  0.  2.  7.\n",
      "  0.  7.  0.  8. -9.  0.  0. -1.  0.  9.  0.  0.  1.  0.  0.  2.  0.  4.\n",
      "  0.  0.  0.  0.  0.  0.  0.  0.  0.  0.  0.  0.  0.  6.  0.  0. -3.  0.\n",
      "  0.  0.  0. -5.  0.  2.  0.  0.  0.  1.  0.  0.  0.  9. -1.  0.  0. -4.\n",
      "  0. -2.  0.  0.  0.  0. -9.  0. -6.  2.  0.  0.  0. -3.  0.  3.  0.  0.\n",
      " -2.  0.  0.  0.  0.  2.  0.  0.  0.  0.  2.  0. -4. -6.  0.  0. -4. -1.\n",
      "  0. 10.  0.  0.  0.  0.  0. -4.  0. 10.  0.  2.  0. -1.  9.  0.  0.  2.\n",
      "  0.  0. -4.  0.  0.  0.  0.  0.  0.  0.  0.  0.  0. 10.  0. -2.  0.  0.\n",
      "  7.  0.  0.  0.  0. -3.  0. -2.  0.  0.  0.  0.]\n",
      "c =  [  9   4  -3   0 -10   5   9  -8 -10   7  -9  -4  -5   8  -2  -1   3   4\n",
      "  -7 -10   1  -2   4   3   7   4   4  -7  -3  -7   2   0   7   2   4   1\n",
      "   5  -2  -5   4   5   0  -7  -6  -8  -6  -7  -9   6  -8   3   2  -2   8\n",
      "   8  -3   4   8   0   3  -7 -10  -2  -2  -4 -10   9   7   7   2   1   3\n",
      "   1   1  -4  -8   0 -10   9   9  -7  -5  -9   6  -1  -9  -9  -2  -1  -2\n",
      "  -3   4  -1   7  -6 -10   2   1  -3   6   4   2  -5   0   4  -8  -3   1\n",
      "  -9   6   2  -7  -7 -10   0  -4  -6   2  -1   4  -2  -8  -6   2  -8   3\n",
      "   6  -8   9   3   9   8  -7   4  -8   2  -9   9  -4   1   6   1  -4   3\n",
      "  -6  -4   0  -4   8   1  -3  -9   2  -4 -10  -7   3   3  -8   5   0  -2\n",
      "  -4  -9   0   3  -3   8   9  -7  -8   0  -8   2   0   3  -5   4   6  -9\n",
      " -10  -9   3   6   9  -2   9  -4  -1  -8   6   5   2  -3  -6  -9  -1  -7\n",
      "   8 -10]\n",
      "O =  [ 0. -9. -4.  3.  0. 10. -5. -9.  8. 10. -7.  9.  4.  5. -8.  2.  1. -3.\n",
      " -4.  7. 10. -1.  2. -4. -3. -7. -4. -4.  7.  3.  7. -2.  0. -7. -2. -4.\n",
      " -1. -5.  2.  5. -4. -5.  0.  7.  6.  8.  6.  7.  9. -6.  8. -3. -2.  2.\n",
      " -8. -8.  3. -4. -8.  0. -3.  7. 10.  2.  2.  4. 10. -9. -7. -7. -2. -1.\n",
      " -3. -1. -1.  4.  8.  0. 10. -9. -9.  7.  5.  9. -6.  1.  9.  9.  2.  1.\n",
      "  2.  3. -4.  1. -7.  6. 10. -2. -1.  3. -6. -4. -2.  5.  0. -4.  8.  3.\n",
      " -1.  9. -6. -2.  7.  7. 10.  0.  4.  6. -2.  1. -4.  2.  8.  6. -2.  8.\n",
      " -3. -6.  8. -9. -3. -9. -8.  7. -4.  8. -2.  9. -9.  4. -1. -6. -1.  4.\n",
      " -3.  6.  4.  0.  4. -8. -1.  3.  9. -2.  4. 10.  7. -3. -3.  8. -5.  0.\n",
      "  2.  4.  9.  0. -3.  3. -8. -9.  7.  8.  0.  8. -2.  0. -3.  5. -4. -6.\n",
      "  9. 10.  9. -3. -6. -9.  2. -9.  4.  1.  8. -6. -5. -2.  3.  6.  9.  1.\n",
      "  7. -8. 10.  0.  0.  0.  0.  0.  0.  0.  0.  0.  0.  0.  0.  0.  0.  0.\n",
      "  0.  0.  0.  0.  0.  0.  0.  0.  0.  0.  0.  0.  0.  0.  0.  0.  0.  0.\n",
      "  0.  0.  0.  0.  0.  0.  0.  0.  0.  0.  0.  0.  0.  0.  0.  0.  0.  0.\n",
      "  0.  0.  0.  0.  0.  0.  0.  0.  0.  0.  0.  0.  0.  0.  0.  0.  0.  0.\n",
      "  0.  0.  0.  0.  0.  0.  0.  0.  0.  0.  0.  0.  0.  0.  0.  0.  0.  0.\n",
      "  0.  0.  0.  0.  0.  0.  0.  0.  0.  0.  0.  0.  0.  0.  0.  0.  0.  0.\n",
      "  0.  0.  0.  0.  0.  0.  0.  0.  0.  0.  0.  0.  0.  0.  0.  0.  0.  0.\n",
      "  0.  0.  0.  0.  0.  0.  0.  0.  0.  0.  0.  0.  0.  0.  0.  0.  0.  0.\n",
      "  0.  0.  0.  0.  0.  0.  0.  0.  0.  0.  0.  0.  0.  0.  0.  0.  0.  0.\n",
      "  0.  0.  0.  0.  0.  0.  0.  0.  0.  0.  0.  0.  0.  0.  0.  0.  0.  0.\n",
      "  0.  0.  0.  0.  0.  0.  0.  0.  0.  0.  0.  0.  0.  0.  0.  0.  0.  0.\n",
      "  0.  0.  0.  0.  0.  0.  0.  0.  0.  0.  0.  0.  0.  0.  0.  0.  0.  0.\n",
      "  0.  0.  0.  0.  0.  0.  0.  0.  0.  0.  0.  0.  0.  0.  0.  0.  0.  0.\n",
      "  0.  0.  0.  0.  0.  0.  0.  0.  0.  0.  0.  0.  0.  0.  0.  0.  0.  0.\n",
      "  0.  0.  0.  0.  0.  0.  0.  0.  0.  0.  0.  0.  0.  0.  0.  0.  0.  0.\n",
      "  0.  0.  0.  0.  0.  0.  0.  0.  0.  0.  0.  0.  0.  0.  0.  0.  0.  0.\n",
      "  0.  0.  0.  0.  0.  0.  0.  0.  0.  0.  0.  0.  0.  0.  0.  0.  0.  0.\n",
      "  0.  0.  0.  0.  0.  0.  0.  0.  0.  0.  0.  0.  0.  0.  0.  0.  0.  0.\n",
      "  0.  0.  0.  0.  0.  0.  0.  0.  0.  0.  0.  0.  0.  0.  0.  0.  0.  0.\n",
      "  0.  0.  0.  0.  0.  0.  0.  0.  0.  0.  0.  0.  0.  0.  0.  0.  0.  0.\n",
      "  0.  0.  0.  0.  0.  0.  0.  0.  0.  0.  0.  0.  0.  0.  0.  0.  0.  0.\n",
      "  0.  0.  0.  0.  0.  0.  0.  0.  0.  0.  0.  0.  0.  0.  0.  0.  0.  0.\n",
      "  0.  0.  0.  0.  0.  0.  0.  0.  0.  0.  0.  0.  0.  0.  0.  0.  0.  0.\n",
      "  0.  0.  0.  0.  0.  0.  0.  0.  0.  0.  0.  0.  0.  0.  0.  0.  0.  0.\n",
      "  0.  0.  0.  0.  0.  0.  0.  0.  0.  0.  0.  0.  0.  0.  0.  0.  0.  0.\n",
      "  0.  0.  0.  0.]\n",
      "141\n",
      "C =  [3.0, 3.0, 3.0, 3.0, 3.0, 3.0, 3.0, 2.0, -3.0, -5.0, 5.0, 3.0, 2.0, -3.0, 2.0, 2.0, -3.0, 2.0, 3.0, -3.0, 3.0, -5.0, -5.0, -3.0, -0.0, -0.0, -0.0, -0.0, 3.0, -0.0, -0.0, -5.0, -0.0, -0.0, 2.0, -0.0, -0.0, 9.0, -5.0, -0.0, -10.0, -6.0, -0.0, -10.0, -10.0, -0.0, -2.0, 2.0, 9.0, -3.0, -2.0, -0.0, -6.0, 3.0, -6.0, -3.0, -0.0, -0.0, -0.0, 3.0, -0.0, -4.0, 8.0, 8.0, -0.0, -4.0, -0.0, -10.0, -0.0, -3.0, 3.0, 7.0, -0.0, 3.0, -3.0, -0.0, 2.0, -10.0, 7.0, 9.0, -0.0, -3.0, -6.0, -10.0, -6.0, -9.0, -0.0, -2.0, 3.0, 7.0, 7.0, -0.0, -3.0, -0.0, -6.0, -10.0, -0.0, 4.0, -0.0, 6.0, -0.0, -9.0, -6.0, -9.0, -0.0, -3.0, -1.0, -0.0, -9.0, 7.0, -0.0, -7.0, -8.0, 7.0, 4.0, 4.0, -0.0, -9.0, -0.0, -9.0, -6.0, -8.0, 4.0, 2.0, -10.0, -0.0, -10.0, -0.0, 4.0, 8.0, -6.0, -0.0, -0.0, -6.0, -0.0, 1.0, -0.0, -0.0, -0.0, -0.0, -0.0]\n",
      "141\n",
      "I =  [31, 85, 179, 165, 66, 157, 181, 205, 94, 265, 224, 198, 248, 192, 120, 69, 160, 295, 171, 61, 274, 163, 297, 268, 58, 252, 24, 159, 227, 8, 203, 253, 290, 226, 233, 267, 236, 10, 214, 261, 285, 168, 272, 269, 217, 70, 280, 71, 209, 152, 78, 232, 162, 138, 143, 167, 55, 117, 228, 191, 263, 108, 174, 287, 2, 223, 188, 180, 219, 299, 294, 169, 155, 20, 241, 12, 276, 193, 156, 197, 133, 100, 199, 202, 137, 151, 189, 246, 271, 201, 204, 190, 105, 26, 221, 279, 288, 255, 229, 220, 39, 176, 106, 296, 83, 172, 154, 116, 95, 135, 32, 249, 254, 260, 185, 270, 173, 231, 238, 212, 195, 245, 235, 182, 208, 258, 110, 216, 225, 213, 166, 289, 35, 243, 234, 177, 153, 19, 247, 278, 244]\n",
      "Entering =  ['x70', 'x23', 'x15', 'x61', 'x18', 'x158', 'x188', 'x64', 'x67', 'x22', 'x129', 'x17', 'x105', 'x77', 'x152', 'x25', 'x40', 'x144', 'x142', 'x198', 'x2', 'x47', 'x52', 'x11', 'x72', 'x57', 'x59', 'x133', 'x38', 'x50', 'x192', 'x74', 'x43', 'x49', 'x194', 'x21', 'x193', 'x54', 'x98', 'x26', 'x155', 'x138', 's68', 's93', 'x178', 'x3', 'p73', 'x120', 'x85', 'p18', 's70', 'p123', 'x121', 'R30', 'p145', 'x190', 'p136', 'x179', 'p93', 's99', 'x200', 'R15', 'p63', 'x102', 'R98', 'x172', 'p17', 'R121', 'x31', 'p14', 'p96', 'p114', 'p1', 'p51', 'x53', 'R117', 'p144', 's84', 'p101', 's137', 's132', 'R31', 'R5', 's115', 's150', 'p53', 'x104', 'x186', 'x162', 'R109', 's69', 'R3', 's136', 's65', 'p118', 'R42', 'R68', 'x20', 's38', 's34', 'p47', 'x119', 'p69', 's105', 'x136', 'p80', 'x177', 'p97', 'p29', 'x78', 's1', 'x141', 'R102', 'p146', 's107', 'R148', 'x83', 'x176', 'p143', 'R116', 'x123', 'R137', 's82', 'R46', 's7', 'p52', 'x94', 'p16', 'p103', 'x164', 'R48', 'R57', 'x14', 'R94', 'R92', 'p12', 'x140', 'R74', 'R40', 'R84', 'p77']\n",
      "Xs =  ['x70', 'x23', 'x15', 'x61', 'x18', 'x158', 'x188', 'x64', 'x67', 'x22', 'x129', 'x17', 'x105', 'x77', 'x152', 'x25', 'x40', 'x144', 'x142', 'x198', 'x2', 'x47', 'x52', 'x11', 'x72', 'x57', 'x59', 'x133', 'x38', 'x50', 'x192', 'x74', 'x43', 'x49', 'x194', 'x21', 'x193', 'x54', 'x98', 'x26', 'x155', 'x138', 'x178', 'x3', 'x120', 'x85', 'x121', 'x190', 'x179', 'x200', 'x102', 'x172', 'x31', 'x53', 'x104', 'x186', 'x162', 'x20', 'x119', 'x136', 'x177', 'x78', 'x141', 'x83', 'x176', 'x123', 'x94', 'x164', 'x14', 'x140']\n",
      "EI =  [69, 22, 14, 60, 17, 157, 187, 63, 66, 21, 128, 16, 104, 76, 151, 24, 39, 143, 141, 197, 1, 46, 51, 10, 71, 56, 58, 132, 37, 49, 191, 73, 42, 48, 193, 20, 192, 53, 97, 25, 154, 137, 177, 2, 119, 84, 120, 189, 178, 199, 101, 171, 30, 52, 103, 185, 161, 19, 118, 135, 176, 77, 140, 82, 175, 122, 93, 163, 13, 139]\n",
      "No Feasible Solution\n",
      "None\n"
     ]
    }
   ],
   "source": [
    "result88 = splx(c8, Al8, bl8, Ag = Ag8, bg = bg8)\n",
    "# print(result88)\n",
    "if (result88[0]) is not None:\n",
    "    print('Optimal Value: ', result88[0]['Optimal Value'])\n",
    "else:\n",
    "    print('None')"
   ]
  },
  {
   "cell_type": "markdown",
   "metadata": {},
   "source": [
    "### Example 5"
   ]
  },
  {
   "cell_type": "code",
   "execution_count": 33,
   "metadata": {},
   "outputs": [],
   "source": [
    "c9 = np.random.randint(-10, 10, 200)\n",
    "Al9 = np.random.randint(-2, 15, size=(150, 200))\n",
    "bl9 = np.random.randint(0, 20, 150)\n",
    "Ae9 = np.random.randint(0, 15, size=(150, 200))\n",
    "be9 = np.random.randint(0, 20, 150)"
   ]
  },
  {
   "cell_type": "code",
   "execution_count": 34,
   "metadata": {},
   "outputs": [
    {
     "name": "stdout",
     "output_type": "stream",
     "text": [
      "Objective Value =  inf\n",
      "Solution:  None\n"
     ]
    }
   ],
   "source": [
    "x9 = cp.Variable(len(c9))\n",
    "objective9 = cp.Minimize(f(x9, c9))\n",
    "constraints9 = [g(x9, Al9, bl9) <= 0, g(x9, Ae9, be9) == 0, x9>=0]\n",
    "LP9 = cp.Problem(objective9, constraints9)\n",
    "res9 = LP9.solve(solver = cp.CPLEX)\n",
    "print('Objective Value = ', res9)\n",
    "print('Solution: ', x9.value)\n",
    "# print('Dual Solution: ', [constraints9[0].dual_value, constraints9[1].dual_value])"
   ]
  },
  {
   "cell_type": "code",
   "execution_count": 35,
   "metadata": {},
   "outputs": [
    {
     "name": "stdout",
     "output_type": "stream",
     "text": [
      "140400\n",
      "0\n",
      "No Feasible Solution\n",
      "None\n"
     ]
    }
   ],
   "source": [
    "result9 = splx(c9, Al9, bl9, Ae = Ae9, be = be9, Big_M=True)\n",
    "# print(result9)\n",
    "if (result9[0]) is not None:\n",
    "    print('Optimal Value: ', result9[0]['Optimal Value'])\n",
    "else:\n",
    "    print('None')"
   ]
  },
  {
   "cell_type": "code",
   "execution_count": 36,
   "metadata": {},
   "outputs": [
    {
     "name": "stdout",
     "output_type": "stream",
     "text": [
      "[ 0.  0.  0.  0.  0.  0.  0.  0.  0.  0.  0.  0.  0.  0.  0.  0.  0.  0.\n",
      "  0.  0.  0.  0.  0.  0.  0.  0.  0.  0.  0.  0.  0.  0.  0.  0.  0.  0.\n",
      "  0.  0.  0.  0.  0.  0.  0.  0.  0.  0.  0.  0.  0.  0.  0.  0.  0.  0.\n",
      "  0.  0.  0.  0.  0. -2.  0.  0.  0.  0.  0.  0.  0.  0.  0.  0.  0.  0.\n",
      "  0.  0.  0.  0.  0.  0.  0.  0.  0.  0.  0.  0.  0.  0.  0.  0.  0.  0.\n",
      "  0.  0.  0.  0.  0.  0.  0.  0.  0.  0.  0.  0.  0.  0.  0.  0.  0.  0.\n",
      "  0.  0.  0.  0.  0.  0.  0.  0.  0.  0.  0.  0.  0.  0.  0.  0.  0.  0.\n",
      "  0.  0.  0.  0.  0.  0.  0.  0.  0.  0.  0.  0.  0.  0.  0.  0.  0.  0.\n",
      "  0.  0.  0.  0.  0.  0.  0.  0.  0.  0.  0.  0.  0.  0.  0.  0.  0.  0.\n",
      "  0.  0.  0.  0. 10.  0.  0.  0.  0.  0.  0.  0.  0.  0.  0.  0.  0.  0.\n",
      "  0.  0.  0.  0.  0.  0.  0.  0.  0.  0.  0.  0.  0.  0.  0.  0.  0.  0.\n",
      "  0.  0.  0.  0.  0.  0.  0.  0.  0.  0.  0.  0.  0.  0.  0.  0.  0.  0.\n",
      "  0.  0.  0.  0.  0.  0.  0.  0.  0.  0.  0.  0.  0.  0.  0.  0.  0.  0.\n",
      "  0.  0.  0.  0.  0.  0.  0.  0.  0.  0.  0.  0.  0.  0.  0.  0.  0.  0.\n",
      "  0.  0.  0.  0.  0.  0.  0.  0.  0.  0.  0.  0.  0.  0.  0.  0.  0.  0.\n",
      "  0.  0.  0.  0.  0.  0.  0.  0.  0.  0.  0.  0.  0.  0.  0.  0.  0.  0.\n",
      "  0.  0.  0.  0.  0.  0.  0.  0.  0.  0.  0.  0.]\n",
      "c =  [  5  -3  -6   7  -2  -1   0  -9  -9  -4  -1  -9   9   1  -7  -8 -10   9\n",
      "   1  -2   5  -1   4  -1  -4   4   0  -5   8   8   4 -10  -9   1  -2  -5\n",
      "  -1   6 -10   1   0   7   9  -2 -10  -1   8   0  -9  -1  -4 -10   1   3\n",
      "  -8  -2  -3 -10   0  -6   0  -7   9 -10   0   5   8   7  -5  -7   7 -10\n",
      "   1  -3  -3   8  -8   7  -1  -4  -7  -8  -6   8  -8  -3   5  -2   4   8\n",
      "   3  -8  -9  -5  -3  -1   2   0   7  -7   9   0   3  -1 -10  -2  -4   5\n",
      "   4   1   9  -7   5  -8  -6   9   2  -9   7   9   3   3   9  -3   7   3\n",
      "   5  -2  -5   0   6  -8   3  -7   0  -3  -8   7   4  -1  -4  -3   8  -1\n",
      "  -8   8   3 -10  -1  -2   0   5  -7  -6   2  -3   3  -7  -3   1  -2   9\n",
      "   0   2  -8   1   6  -9   8  -4  -6   9   3  -7  -5   6  -5   6 -10  -4\n",
      "   2  -8   9   6   0   3  -9   1 -10  -3  -3   2   8  -8  -3   3  -4   1\n",
      "  -8   7]\n",
      "O =  [ 0. -5.  3.  6. -7.  2.  1.  0.  9.  9.  4.  1.  9. -9. -1.  7.  8. 10.\n",
      " -9. -1.  2. -5.  1. -4.  1.  4. -4.  0.  5. -8. -8. -4. 10.  9. -1.  2.\n",
      "  5.  1. -6. 10. -1.  0. -7. -9.  2. 10.  1. -8.  0.  9.  1.  4. 10. -1.\n",
      " -3.  8.  2.  3. 10.  0.  6.  0.  7. -9. 10.  0. -5. -8. -7.  5.  7. -7.\n",
      " 10. -1.  3.  3. -8.  8. -7.  1.  4.  7.  8.  6. -8.  8.  3. -5.  2. -4.\n",
      " -8. -3.  8.  9.  5.  3.  1. -2.  0. -7.  7. -9.  0. -3.  1. 10.  2.  4.\n",
      " -5. -4. -1. -9.  7. -5.  8.  6. -9. -2.  9. -7. -9. -3. -3. -9.  3. -7.\n",
      " -3. -5.  2.  5.  0. -6.  8. -3.  7.  0.  3.  8. -7. -4.  1.  4.  3. -8.\n",
      "  1.  8. -8. -3. 10.  1.  2.  0. -5.  7.  6. -2.  3. -3.  7.  3. -1.  2.\n",
      " -9.  0. -2.  8. -1. -6.  9. -8.  4.  6. -9. -3.  7.  5. -6.  5. -6. 10.\n",
      "  4. -2.  8. -9. -6.  0. -3.  9. -1. 10.  3.  3. -2. -8.  8.  3. -3.  4.\n",
      " -1.  8. -7.  0.  0.  0.  0.  0.  0.  0.  0.  0.  0.  0.  0.  0.  0.  0.\n",
      "  0.  0.  0.  0.  0.  0.  0.  0.  0.  0.  0.  0.  0.  0.  0.  0.  0.  0.\n",
      "  0.  0.  0.  0.  0.  0.  0.  0.  0.  0.  0.  0.  0.  0.  0.  0.  0.  0.\n",
      "  0.  0.  0.  0.  0.  0.  0.  0.  0.  0.  0.  0.  0.  0.  0.  0.  0.  0.\n",
      "  0.  0.  0.  0.  0.  0.  0.  0.  0.  0.  0.  0.  0.  0.  0.  0.  0.  0.\n",
      "  0.  0.  0.  0.  0.  0.  0.  0.  0.  0.  0.  0.  0.  0.  0.  0.  0.  0.\n",
      "  0.  0.  0.  0.  0.  0.  0.  0.  0.  0.  0.  0.  0.  0.  0.  0.  0.  0.\n",
      "  0.  0.  0.  0.  0.  0.  0.  0.  0.  0.  0.  0.  0.  0.  0.  0.  0.  0.\n",
      "  0.  0.  0.  0.  0.  0.  0.  0.  0.  0.  0.  0.  0.  0.  0.  0.  0.  0.\n",
      "  0.  0.  0.  0.  0.  0.  0.  0.  0.  0.  0.  0.  0.  0.  0.  0.  0.  0.\n",
      "  0.  0.  0.  0.  0.  0.  0.  0.  0.  0.  0.  0.  0.  0.  0.  0.  0.  0.\n",
      "  0.  0.  0.  0.  0.  0.  0.  0.  0.  0.  0.  0.  0.  0.  0.  0.  0.  0.\n",
      "  0.  0.  0.  0.  0.  0.  0.  0.  0.  0.  0.  0.  0.  0.  0.  0.  0.  0.\n",
      "  0.  0.  0.  0.  0.  0.  0.  0.  0.  0.  0.  0.  0.  0.  0.  0.  0.  0.\n",
      "  0.  0.  0.  0.  0.  0.  0.  0.  0.  0.  0.  0.  0.  0.  0.  0.  0.  0.\n",
      "  0.  0.  0.  0.  0.  0.  0.  0.  0.  0.  0.  0.  0.  0.  0.  0.  0.  0.\n",
      "  0.  0.  0.  0.  0.  0.  0.  0.  0.  0.  0.  0.  0.  0.  0.  0.]\n",
      "4\n",
      "C =  [2.0, -10.0, -0.0, -0.0]\n",
      "4\n",
      "I =  [61, 168, 131, 7]\n",
      "Entering =  ['x181', 'x52', 'x135', 's6']\n",
      "Xs =  ['x181', 'x52', 'x135']\n",
      "EI =  [180, 51, 134]\n",
      "No Feasible Solution\n",
      "None\n"
     ]
    }
   ],
   "source": [
    "result99 = splx(c9, Al9, bl9, Ae = Ae9, be = be9)\n",
    "# print(result99)\n",
    "if (result99[0]) is not None:\n",
    "    print('Optimal Value: ', result99[0]['Optimal Value'])\n",
    "else:\n",
    "    print('None')"
   ]
  },
  {
   "cell_type": "markdown",
   "metadata": {},
   "source": [
    "### Example 6"
   ]
  },
  {
   "cell_type": "code",
   "execution_count": 37,
   "metadata": {},
   "outputs": [],
   "source": [
    "c10 = np.random.randint(-100, 100, 300)\n",
    "Ag10 = np.random.randint(0, 15, size=(150, 300))\n",
    "bg10 = np.random.randint(0, 20, 150)\n",
    "Ae10 = np.random.randint(0, 15, size=(150, 300))\n",
    "be10 = np.random.randint(0, 20, 150)"
   ]
  },
  {
   "cell_type": "code",
   "execution_count": 38,
   "metadata": {},
   "outputs": [
    {
     "name": "stdout",
     "output_type": "stream",
     "text": [
      "Objective Value =  inf\n"
     ]
    }
   ],
   "source": [
    "x10 = cp.Variable(len(c10))\n",
    "objective10 = cp.Minimize(f(x10, c10))\n",
    "constraints10 = [g(x10, Ag10, bg10) >= 0, g(x10, Ae10, be10) == 0 ,x10>=0]\n",
    "LP10 = cp.Problem(objective10, constraints10)\n",
    "res10 = LP10.solve(solver = cp.CPLEX)\n",
    "print('Objective Value = ', res10)\n",
    "# print('Solution: ', x10.value)\n",
    "# print('Dual Solution: ', [constraints10[0].dual_value, constraints10[1].dual_value])"
   ]
  },
  {
   "cell_type": "code",
   "execution_count": 39,
   "metadata": {},
   "outputs": [
    {
     "name": "stdout",
     "output_type": "stream",
     "text": [
      "-272100\n",
      "0\n",
      "No Feasible Solution\n",
      "None\n"
     ]
    }
   ],
   "source": [
    "result10 = splx(c10, Ag = Ag10, bg = bg10, Ae = Ae10, be = be10, Big_M=True, obj = 'Max')\n",
    "# print(result10)\n",
    "if (result10[0]) is not None:\n",
    "    print('Optimal Value: ', result10[0]['Optimal Value'])\n",
    "else:\n",
    "    print('None')"
   ]
  },
  {
   "cell_type": "code",
   "execution_count": 40,
   "metadata": {},
   "outputs": [
    {
     "name": "stdout",
     "output_type": "stream",
     "text": [
      "[  0.   0.   0.   0.   0.   0.   0.   0.   0.   0. -84.   0.   0.   0.\n",
      "   0.   0.   0.   0.   0.   0.   0.   0.   0.   0.   0.   0.   0.   0.\n",
      "   0.   0.   0.   0.   0.   0.   0.   0.   0.  11.   0.   0.   0.   0.\n",
      "   0.   0.   0.   0.   0.   0.   0.   0.   0.   0.   0.   0.   0.   0.\n",
      "   0.   0.   0.   0.   0.   0.   0.   0.   0.   0.   0.   0.   0.   0.\n",
      "   0.   0.   0.   0.   0.   0.   0.   0.   0.   0.   0.   0.   0.   0.\n",
      "   0.   0.   0.   0.   0.   0.   0.   0.   0.   0.   0.   0.   0.   0.\n",
      "   0.   0.   0.   0.   0.   0.   0.   0.   0.   0.   0.   0.   0.   0.\n",
      "   0.   0.   0.   0.   0.   0.   0.   0.   0.   0.   0.   0.   0.   0.\n",
      "   0.   0.   0.   0.   0.   0.   0.   0.   0.   0.   0.   0.   0.   0.\n",
      "   0.   0.   0.   0.   0.   0.   0.   0.   0.   0.   0.   0.   0.   0.\n",
      "   0.   0.   0.   0.   0.   0.   0.   0.   0.  45.   0.   0.   0.   0.\n",
      "   0.   0.   0.   0.   0.   0.   0.   0.   0.   0.   0.   0.   0.   0.\n",
      "   0.   0.   0.   0.   0.   0.   0.   0.   0.   0.   0.   0.   0.   0.\n",
      "   0.   0.   0.   0.   0.   0.   0.   0.   0.   0.   0.   0.   0.   0.\n",
      "   0.   0.   0.   0.   0.   0.   0.   0.   0.   0.   0.   0.   0.   0.\n",
      "   0.   0.   0.   0.   0.   0.   0.   0.   0.   0.   0.   0.   0.   0.\n",
      "   0.   0.   0.   0.   0.   0.   0.   0.   0.   0.   0.   0.   0.   0.\n",
      "   0.   0.   0.   0.   0.   0.   0.   0.   0.   0.   0.   0.   0.   0.\n",
      "   0.   0.   0.   0.   0.   0.   0.   0.   0.   0.   0.   0.   0.   0.\n",
      "   0.   0.   0.   0.   0.   0.   0.   0.   0.   0.   0.   0.   0.   0.\n",
      "   0.   0.   0.   0.   0.   0.]\n",
      "c =  [-82  73  -2  49 -18 -12  77  25 -81 -95   7  26   4 -67 -30  24   7 -31\n",
      "  87  44 -60  24  86  51  93 -88  40 -79  89  58   1  42  37  36  91  92\n",
      "  75  72  14 -18 -34 -28 -38   6  22  82  17  18 -44  32  96 -14 -73   9\n",
      "  28  18 -23   5 -90 -53 -75  36 -90  -4  28  26 -62 -58  14 -64  27  66\n",
      " -65 -29 -64  57 -93 -61  94  82 -19 -92 -81 -48 -93  50 -62 -97 -64  44\n",
      " -14  86 -49 -57 -87  75 -54  74  -9  44 -31  95 -45  43 -67 -60 -44 -12\n",
      " -96 -73 -64  13  47  74 -10  19  69 -88 -16 -70 -64  78  87  64 -92 -76\n",
      " -45  57 -87  27  20 -46  81 -70  10 -35 -52  55 -26  80   5  53  64  92\n",
      " -29  46  98 -66 -18 -96 -22  -8  36  15  84 -44  56 -12 -54 -29  45  39\n",
      "  79 -32 -84 -80  71 -20 -71 -88  66  -9 -18 -93 -33  17 -97 -29 -82  91\n",
      " -41  16  59 -55  13 -95  43 -66  37  30  91  63 -37  61 -76 -53 -24  58\n",
      "  78 -83 -87  55 -75 -86 -68  -7  12 -21 -63 -69  25 -69  35  60  79 -14\n",
      " -24  -2 -56  34 -58 -68  33  59 -14  41 -80   6  88  78 -76 -92 -92  49\n",
      "  34  -9  51 -46 -99  30 -77 -54  45 -32 -22 -64  99 -36 -39  -1 -28  12\n",
      " -58 -11  12 -55 -94  68 -32  94  10  71 -70  20 -88 -38 -90  27  60 -26\n",
      " -56  58  70  30  28 -25 -96 -85  49 -73  31  46 -36  31  74  10  -6 -87\n",
      "  36 -50  85 -29  -3  43  98 -53 -79  44 -14  95]\n",
      "O =  [  0.  82. -73.   2. -49.  18.  12. -77. -25.  81.  95.  -7. -26.  -4.\n",
      "  67.  30. -24.  -7.  31. -87. -44.  60. -24. -86. -51. -93.  88. -40.\n",
      "  79. -89. -58.  -1. -42. -37. -36. -91. -92. -75. -72. -14.  18.  34.\n",
      "  28.  38.  -6. -22. -82. -17. -18.  44. -32. -96.  14.  73.  -9. -28.\n",
      " -18.  23.  -5.  90.  53.  75. -36.  90.   4. -28. -26.  62.  58. -14.\n",
      "  64. -27. -66.  65.  29.  64. -57.  93.  61. -94. -82.  19.  92.  81.\n",
      "  48.  93. -50.  62.  97.  64. -44.  14. -86.  49.  57.  87. -75.  54.\n",
      " -74.   9. -44.  31. -95.  45. -43.  67.  60.  44.  12.  96.  73.  64.\n",
      " -13. -47. -74.  10. -19. -69.  88.  16.  70.  64. -78. -87. -64.  92.\n",
      "  76.  45. -57.  87. -27. -20.  46. -81.  70. -10.  35.  52. -55.  26.\n",
      " -80.  -5. -53. -64. -92.  29. -46. -98.  66.  18.  96.  22.   8. -36.\n",
      " -15. -84.  44. -56.  12.  54.  29. -45. -39. -79.  32.  84.  80. -71.\n",
      "  20.  71.  88. -66.   9.  18.  93.  33. -17.  97.  29.  82. -91.  41.\n",
      " -16. -59.  55. -13.  95. -43.  66. -37. -30. -91. -63.  37. -61.  76.\n",
      "  53.  24. -58. -78.  83.  87. -55.  75.  86.  68.   7. -12.  21.  63.\n",
      "  69. -25.  69. -35. -60. -79.  14.  24.   2.  56. -34.  58.  68. -33.\n",
      " -59.  14. -41.  80.  -6. -88. -78.  76.  92.  92. -49. -34.   9. -51.\n",
      "  46.  99. -30.  77.  54. -45.  32.  22.  64. -99.  36.  39.   1.  28.\n",
      " -12.  58.  11. -12.  55.  94. -68.  32. -94. -10. -71.  70. -20.  88.\n",
      "  38.  90. -27. -60.  26.  56. -58. -70. -30. -28.  25.  96.  85. -49.\n",
      "  73. -31. -46.  36. -31. -74. -10.   6.  87. -36.  50. -85.  29.   3.\n",
      " -43. -98.  53.  79. -44.  14. -95.   0.   0.   0.   0.   0.   0.   0.\n",
      "   0.   0.   0.   0.   0.   0.   0.   0.   0.   0.   0.   0.   0.   0.\n",
      "   0.   0.   0.   0.   0.   0.   0.   0.   0.   0.   0.   0.   0.   0.\n",
      "   0.   0.   0.   0.   0.   0.   0.   0.   0.   0.   0.   0.   0.   0.\n",
      "   0.   0.   0.   0.   0.   0.   0.   0.   0.   0.   0.   0.   0.   0.\n",
      "   0.   0.   0.   0.   0.   0.   0.   0.   0.   0.   0.   0.   0.   0.\n",
      "   0.   0.   0.   0.   0.   0.   0.   0.   0.   0.   0.   0.   0.   0.\n",
      "   0.   0.   0.   0.   0.   0.   0.   0.   0.   0.   0.   0.   0.   0.\n",
      "   0.   0.   0.   0.   0.   0.   0.   0.   0.   0.   0.   0.   0.   0.\n",
      "   0.   0.   0.   0.   0.   0.   0.   0.   0.   0.   0.   0.   0.   0.\n",
      "   0.   0.   0.   0.   0.   0.   0.   0.   0.   0.   0.   0.   0.   0.\n",
      "   0.   0.   0.   0.   0.   0.   0.   0.   0.   0.   0.   0.   0.   0.\n",
      "   0.   0.   0.   0.   0.   0.   0.   0.   0.   0.   0.   0.   0.   0.\n",
      "   0.   0.   0.   0.   0.   0.   0.   0.   0.   0.   0.   0.   0.   0.\n",
      "   0.   0.   0.   0.   0.   0.   0.   0.   0.   0.   0.   0.   0.   0.\n",
      "   0.   0.   0.   0.   0.   0.   0.   0.   0.   0.   0.   0.   0.   0.\n",
      "   0.   0.   0.   0.   0.   0.   0.   0.   0.   0.   0.   0.   0.   0.\n",
      "   0.   0.   0.   0.   0.   0.   0.   0.   0.   0.   0.   0.   0.   0.\n",
      "   0.   0.   0.   0.   0.   0.   0.   0.   0.   0.   0.   0.   0.   0.\n",
      "   0.   0.   0.   0.   0.   0.   0.   0.   0.   0.   0.   0.   0.   0.\n",
      "   0.   0.   0.   0.   0.   0.   0.   0.   0.   0.   0.   0.   0.   0.\n",
      "   0.   0.   0.   0.   0.   0.   0.   0.   0.   0.   0.   0.   0.   0.\n",
      "   0.   0.   0.   0.   0.   0.   0.   0.   0.   0.   0.   0.   0.   0.\n",
      "   0.   0.   0.   0.   0.   0.   0.   0.   0.   0.   0.   0.   0.   0.\n",
      "   0.   0.   0.   0.   0.   0.   0.   0.   0.   0.   0.   0.   0.   0.\n",
      "   0.   0.   0.   0.   0.   0.   0.   0.   0.   0.   0.   0.   0.   0.\n",
      "   0.   0.   0.   0.   0.   0.   0.   0.   0.   0.   0.   0.   0.   0.\n",
      "   0.   0.   0.   0.   0.   0.   0.   0.   0.   0.   0.   0.   0.   0.\n",
      "   0.   0.   0.   0.   0.   0.   0.   0.   0.   0.   0.   0.   0.   0.\n",
      "   0.   0.   0.   0.   0.   0.   0.   0.   0.   0.   0.   0.   0.   0.\n",
      "   0.   0.   0.   0.   0.   0.   0.   0.   0.   0.   0.   0.   0.   0.\n",
      "   0.   0.   0.   0.   0.   0.   0.   0.   0.   0.   0.   0.   0.   0.\n",
      "   0.   0.   0.   0.   0.   0.   0.   0.   0.   0.]\n",
      "11\n",
      "C =  [71.0, -0.0, -0.0, -0.0, -0.0, -0.0, -0.0, -0.0, -0.0, -0.0, 84.0]\n",
      "11\n",
      "I =  [165, 140, 41, 39, 148, 138, 156, 122, 131, 161, 12]\n",
      "Entering =  ['x103', 'p121', 'p11', 'x254', 'p137', 'p139', 'p147', 'p38', 'p130', 'p40', 'x155']\n",
      "Xs =  ['x103', 'x254', 'x155']\n",
      "EI =  [102, 253, 154]\n",
      "No Feasible Solution\n",
      "None\n"
     ]
    }
   ],
   "source": [
    "result100 = splx(c10, Ag = Ag10, bg = bg10, Ae = Ae10, be = be10)\n",
    "# print(result100)\n",
    "if (result100[0]) is not None:\n",
    "    print('Optimal Value: ', result100[0]['Optimal Value'])\n",
    "else:\n",
    "    print('None')"
   ]
  },
  {
   "cell_type": "markdown",
   "metadata": {},
   "source": [
    "### Example 7"
   ]
  },
  {
   "cell_type": "code",
   "execution_count": 41,
   "metadata": {},
   "outputs": [],
   "source": [
    "c11 = np.random.randint(-10, 10, 70)\n",
    "Al11 = np.random.randint(0, 15, size=(50, 70))\n",
    "bl11 = np.random.randint(0, 20, 50)\n",
    "Ag11 = np.random.randint(0, 15, size=(50, 70))\n",
    "bg11 = np.random.randint(0, 20, 50)\n",
    "Ae11 = np.random.randint(0, 15, size=(50, 70))\n",
    "be11 = np.random.randint(0, 20, 50)"
   ]
  },
  {
   "cell_type": "code",
   "execution_count": 42,
   "metadata": {},
   "outputs": [
    {
     "name": "stdout",
     "output_type": "stream",
     "text": [
      "Objective Value =  inf\n"
     ]
    }
   ],
   "source": [
    "x11 = cp.Variable(len(c11))\n",
    "objective11 = cp.Minimize(f(x11, c11))\n",
    "constraints11 = [g(x11, Al11, bl11) <= 0, g(x11, Ag11, bg11) >= 0, g(x11, Ae11, be11) == 0 ,x11>=0]\n",
    "LP11 = cp.Problem(objective11, constraints11)\n",
    "res11 = LP11.solve(solver = cp.CPLEX)\n",
    "print('Objective Value = ', res11)\n",
    "# print('Solution: ', x11.value)\n",
    "# print('Dual Solution: ', [constraints11[0].dual_value, constraints11[1].dual_value, constraints11[2].dual_value])"
   ]
  },
  {
   "cell_type": "code",
   "execution_count": 43,
   "metadata": {},
   "outputs": [
    {
     "name": "stdout",
     "output_type": "stream",
     "text": [
      "87700\n",
      "0\n",
      "No Feasible Solution\n",
      "None\n"
     ]
    }
   ],
   "source": [
    "result11 = splx(c11, Al11, bl11, Ag = Ag11, bg = bg11, Ae = Ae11, be = be11, Big_M=True)\n",
    "# print(result11)\n",
    "if (result11[0]) is not None:\n",
    "    print('Optimal Value: ', result11[0]['Optimal Value'])\n",
    "else:\n",
    "    print('None')"
   ]
  },
  {
   "cell_type": "code",
   "execution_count": 44,
   "metadata": {},
   "outputs": [
    {
     "name": "stdout",
     "output_type": "stream",
     "text": [
      "[0. 0. 0. 0. 0. 0. 0. 0. 0. 0. 0. 0. 0. 0. 7. 0. 0. 0. 0. 0. 0. 9. 0. 0.\n",
      " 0. 0. 0. 0. 0. 0. 0. 0. 0. 0. 0. 0. 0. 0. 0. 0. 0. 0. 0. 0. 0. 0. 0. 0.\n",
      " 0. 0. 0. 0. 0. 0. 0. 0. 0. 0. 0. 0. 0. 0. 0. 0. 0. 0. 0. 0. 0. 0. 0. 0.\n",
      " 0. 0. 0. 0. 0. 0. 0. 0. 0. 0. 0. 0. 0. 0. 0. 0. 0. 0. 0. 0. 0. 0. 0. 0.\n",
      " 0. 0. 0. 0. 0. 0. 0. 0. 0. 0. 0. 0. 0. 0. 0. 0. 0. 0. 0. 0. 0. 0. 0. 0.\n",
      " 0. 0. 0. 0. 0. 0. 0. 0. 0. 0. 0. 0. 0. 0. 0. 0. 0. 0. 0. 0. 0. 0. 0. 0.\n",
      " 0. 0. 0. 0. 0. 0.]\n",
      "c =  [ -6  -1   5  -4  -8   3   7   1   6  -6   5   1  -7   9   7 -10   4  -3\n",
      "   2   7   2  -5  -3   7  -7 -10   0  -4  -7   1   1   7   4  -3  -1   4\n",
      "   0  -7  -9  -3   4   7 -10  -7  -9   8   6   2   3  -5  -2   6   1 -10\n",
      "   7   5  -7   6  -3  -7  -7   8  -7   9   4   3  -2   8   8   4]\n",
      "O =  [ 0.  6.  1. -5.  4.  8. -3. -7. -1. -6.  6. -5. -1.  7. -9. -7. 10. -4.\n",
      "  3. -2. -7. -2.  5.  3. -7.  7. 10.  0.  4.  7. -1. -1. -7. -4.  3.  1.\n",
      " -4.  0.  7.  9.  3. -4. -7. 10.  7.  9. -8. -6. -2. -3.  5.  2. -6. -1.\n",
      " 10. -7. -5.  7. -6.  3.  7.  7. -8.  7. -9. -4. -3.  2. -8. -8. -4.  0.\n",
      "  0.  0.  0.  0.  0.  0.  0.  0.  0.  0.  0.  0.  0.  0.  0.  0.  0.  0.\n",
      "  0.  0.  0.  0.  0.  0.  0.  0.  0.  0.  0.  0.  0.  0.  0.  0.  0.  0.\n",
      "  0.  0.  0.  0.  0.  0.  0.  0.  0.  0.  0.  0.  0.  0.  0.  0.  0.  0.\n",
      "  0.  0.  0.  0.  0.  0.  0.  0.  0.  0.  0.  0.  0.  0.  0.  0.  0.  0.\n",
      "  0.  0.  0.  0.  0.  0.  0.  0.  0.  0.  0.  0.  0.  0.  0.  0.  0.  0.\n",
      "  0.  0.  0.  0.  0.  0.  0.  0.  0.  0.  0.  0.  0.  0.  0.  0.  0.  0.\n",
      "  0.  0.  0.  0.  0.  0.  0.  0.  0.  0.  0.  0.  0.  0.  0.  0.  0.  0.\n",
      "  0.  0.  0.  0.  0.  0.  0.  0.  0.  0.  0.  0.  0.  0.  0.  0.  0.  0.\n",
      "  0.  0.  0.  0.  0.  0.  0.  0.  0.  0.  0.  0.  0.  0.  0.  0.  0.  0.\n",
      "  0.  0.  0.  0.  0.  0.  0.  0.  0.  0.  0.  0.  0.  0.  0.  0.  0.  0.\n",
      "  0.  0.  0.  0.  0.  0.  0.  0.  0.  0.  0.  0.  0.  0.  0.  0.  0.  0.\n",
      "  0.  0.]\n",
      "2\n",
      "C =  [-7.0, -9.0]\n",
      "2\n",
      "I =  [16, 23]\n",
      "Entering =  ['x63', 'x39']\n",
      "Xs =  ['x63', 'x39']\n",
      "EI =  [62, 38]\n",
      "No Feasible Solution\n",
      "None\n"
     ]
    }
   ],
   "source": [
    "result111 = splx(c11, Al11, bl11, Ag = Ag11, bg = bg11, Ae = Ae11, be = be11)\n",
    "# print(result111)\n",
    "if (result111[0]) is not None:\n",
    "    print('Optimal Value: ', result111[0]['Optimal Value'])\n",
    "else:\n",
    "    print('None')"
   ]
  },
  {
   "cell_type": "code",
   "execution_count": null,
   "metadata": {},
   "outputs": [],
   "source": []
  }
 ],
 "metadata": {
  "interpreter": {
   "hash": "88279d2366fe020547cde40dd65aa0e3aa662a6ec1f3ca12d88834876c85e1a6"
  },
  "kernelspec": {
   "display_name": "Python 3.9.7 ('base')",
   "language": "python",
   "name": "python3"
  },
  "language_info": {
   "codemirror_mode": {
    "name": "ipython",
    "version": 3
   },
   "file_extension": ".py",
   "mimetype": "text/x-python",
   "name": "python",
   "nbconvert_exporter": "python",
   "pygments_lexer": "ipython3",
   "version": "3.9.7"
  },
  "orig_nbformat": 4
 },
 "nbformat": 4,
 "nbformat_minor": 2
}
