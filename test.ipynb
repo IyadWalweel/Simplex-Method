{
 "cells": [
  {
   "cell_type": "markdown",
   "metadata": {},
   "source": [
    "# Testing \"My Solver\" depending on CVXPY "
   ]
  },
  {
   "cell_type": "code",
   "execution_count": 1,
   "metadata": {},
   "outputs": [],
   "source": [
    "from Simplex_Solver import simplex as splx\n",
    "import numpy as np\n",
    "import cvxpy as cp"
   ]
  },
  {
   "cell_type": "code",
   "execution_count": null,
   "metadata": {},
   "outputs": [],
   "source": [
    "# Objective \n",
    "def f(X, c):\n",
    "    return c@X"
   ]
  },
  {
   "cell_type": "code",
   "execution_count": null,
   "metadata": {},
   "outputs": [],
   "source": [
    "# Constraints\n",
    "def g(X, A, b):\n",
    "    L = A@X - b\n",
    "    return L"
   ]
  },
  {
   "cell_type": "markdown",
   "metadata": {},
   "source": [
    "## $1^{st}$ Problem \n",
    "$$\\min_{x \\in \\mathbb{R}^4, x \\geq 0} -7x_1 - 9x_2 - 18x_3 -17x_4$$\n",
    "subject to:- \n",
    "$$\\begin{cases} 2x_1 + 4x_2 + 5x_3 + 7x_4 \\leq 41  \\\\ x_1 + x_2 + 2x_3 + 2x_4 \\leq 17 \\\\ x_1 + 2x_2 + 3x_3 + 3x_4 \\leq 24\\end{cases}$$"
   ]
  },
  {
   "cell_type": "code",
   "execution_count": null,
   "metadata": {},
   "outputs": [],
   "source": [
    "c1 = np.array([-7, -9, -18, -17])\n",
    "Al1 = np.array([[2,4,6,7],[1,1,2,2],[1,2,3,3]])\n",
    "bl1 = np.array([41,17,24])"
   ]
  },
  {
   "cell_type": "code",
   "execution_count": null,
   "metadata": {},
   "outputs": [],
   "source": [
    "x1 = cp.Variable(len(c1))\n",
    "objective1 = cp.Minimize(f(x1, c1))\n",
    "constraints1 = [g(x1, Al1, bl1) <= 0, x1>=0]\n",
    "LP1 = cp.Problem(objective1, constraints1)\n",
    "res1 = LP1.solve(solver = cp.CPLEX)\n",
    "print('Objective Value = ', res1)\n",
    "print('Solution: ', x1.value)\n",
    "print('Dual Solution: ', constraints1[0].dual_value)"
   ]
  },
  {
   "cell_type": "code",
   "execution_count": null,
   "metadata": {},
   "outputs": [],
   "source": [
    "result1, table1, X1, Y1, F1, ite1 = splx(c1, Al1, bl1)\n",
    "print(result1)"
   ]
  },
  {
   "cell_type": "markdown",
   "metadata": {},
   "source": [
    "## $2^{nd}$ Problem \n",
    "$$\\max ~ 5x_1 + 12x_2 + 4x_3$$\n",
    "subject to:- \n",
    "$$\\begin{cases} x_1 + 2x_2 + x_3 \\leq 10  \\\\ 2x_1 - x_2 + 3x_3 = 8 \\end{cases}$$"
   ]
  },
  {
   "cell_type": "code",
   "execution_count": null,
   "metadata": {},
   "outputs": [],
   "source": [
    "c2 = np.array([5,12,4])\n",
    "Al2 = np.array([1,2,1])\n",
    "bl2 = np.array([10])\n",
    "Ae2 = np.array([2,-1,3])\n",
    "be2 = np.array([8])"
   ]
  },
  {
   "cell_type": "code",
   "execution_count": null,
   "metadata": {},
   "outputs": [],
   "source": [
    "x2 = cp.Variable(len(c2))\n",
    "objective2 = cp.Maximize(f(x2, c2))\n",
    "constraints2 = [g(x2, Al2, bl2) <= 0, g(x2, Ae2, be2) == 0 ,x2>=0]\n",
    "LP2 = cp.Problem(objective2, constraints2)\n",
    "res2 = LP2.solve(solver = cp.CPLEX)\n",
    "print('Objective Value = ', res2)\n",
    "print('Solution: ', x2.value)\n",
    "print('Dual Solution: ', [constraints2[0].dual_value, constraints2[1].dual_value])"
   ]
  },
  {
   "cell_type": "code",
   "execution_count": null,
   "metadata": {},
   "outputs": [],
   "source": [
    "result2, table2, X2, Y2, F2, ite2 = splx(c2, Al2, bl2, Ae=Ae2, be=be2, Big_M = True, obj = 'Max')\n",
    "print(result2)"
   ]
  },
  {
   "cell_type": "code",
   "execution_count": null,
   "metadata": {},
   "outputs": [],
   "source": [
    "result22, table22, X22, Y22, F22, ite22 = splx(c2, Al2, bl2, Ae=Ae2, be=be2, obj = 'Max')\n",
    "print(result22)"
   ]
  },
  {
   "cell_type": "markdown",
   "metadata": {},
   "source": [
    "## $3^{rd}$ Problem \n",
    "$$\\min ~ 4x_1 + x_2 $$\n",
    "subject to:- \n",
    "$$\\begin{cases} 3x_1 + x_2 = 3  \\\\ 4x_1 + 3x_2 \\geq 6 \\\\ x_1 + 2x_2 \\leq 4 \\end{cases}$$"
   ]
  },
  {
   "cell_type": "code",
   "execution_count": null,
   "metadata": {},
   "outputs": [],
   "source": [
    "c3 = np.array([4,1])\n",
    "Al3 = np.array([1,2])\n",
    "bl3 = np.array([4])\n",
    "Ag3 = np.array([4,3])\n",
    "bg3 = np.array([6])\n",
    "Ae3 = np.array([3,1])\n",
    "be3 = np.array([3])"
   ]
  },
  {
   "cell_type": "code",
   "execution_count": null,
   "metadata": {},
   "outputs": [],
   "source": [
    "x3 = cp.Variable(len(c3))\n",
    "objective3 = cp.Minimize(f(x3, c3))\n",
    "constraints3 = [g(x3, Al3, bl3) <= 0, g(x3, Ag3, bg3) >= 0, g(x3, Ae3, be3) == 0 ,x3>=0]\n",
    "LP3 = cp.Problem(objective3, constraints3)\n",
    "res3 = LP3.solve(solver = cp.CPLEX)\n",
    "print('Objective Value = ', res3)\n",
    "print('Solution: ', x3.value)\n",
    "print('Dual Solution: ', [constraints3[0].dual_value, constraints3[1].dual_value, constraints3[2].dual_value])"
   ]
  },
  {
   "cell_type": "code",
   "execution_count": null,
   "metadata": {},
   "outputs": [],
   "source": [
    "result3, table3, X3, Y3, F3, ite3 = splx(c3, Al3, bl3, Ag3, bg3, Ae3, be3, Big_M = True)\n",
    "print(result3)"
   ]
  },
  {
   "cell_type": "code",
   "execution_count": null,
   "metadata": {},
   "outputs": [],
   "source": [
    "result33, table33, X33, Y33, F33, ite33 = splx(c3, Al3, bl3, Ag3, bg3, Ae3, be3)\n",
    "print(result33)"
   ]
  },
  {
   "cell_type": "markdown",
   "metadata": {},
   "source": [
    "## $4^{th}$ Problem (Infeasible Solution)\n",
    "$$\\max ~ 3x_1 + 2x_2 $$\n",
    "subject to:- \n",
    "$$\\begin{cases} 2x_1 + x_2 \\leq 2  \\\\ 3x_1 + 4x_2 \\geq 12 \\end{cases}$$"
   ]
  },
  {
   "cell_type": "code",
   "execution_count": 2,
   "metadata": {},
   "outputs": [],
   "source": [
    "c4 = np.array([3,2])\n",
    "Al4 = np.array([2,1])\n",
    "bl4 = np.array([2])\n",
    "Ag4 = np.array([3,4])\n",
    "bg4 = np.array([12])"
   ]
  },
  {
   "cell_type": "code",
   "execution_count": 3,
   "metadata": {},
   "outputs": [
    {
     "name": "stdout",
     "output_type": "stream",
     "text": [
      "{'Optimal Value': 404.0, 'Optimal Solution': array([0., 2.]), 'Associated Dual Solution': array([398.0, -100.0], dtype=object), 'Number of Iterations': 1}\n"
     ]
    }
   ],
   "source": [
    "result4, table4, X4, Y4, F4, ite4 = splx(c4, Al4, bl4, Ag4, bg4, Big_M = True)\n",
    "print(result4)"
   ]
  },
  {
   "cell_type": "code",
   "execution_count": 4,
   "metadata": {},
   "outputs": [
    {
     "name": "stdout",
     "output_type": "stream",
     "text": [
      "No Feasible Solution\n",
      "None\n"
     ]
    }
   ],
   "source": [
    "result44, table44, X44, Y44, F44, ite44 = splx(c4, Al4, bl4, Ag4, bg4)\n",
    "print(result44)"
   ]
  },
  {
   "cell_type": "code",
   "execution_count": null,
   "metadata": {},
   "outputs": [],
   "source": []
  }
 ],
 "metadata": {
  "interpreter": {
   "hash": "c784defcd510ca9125bd2d936e17a27a4042a0584263585d436aaca193ab48ae"
  },
  "kernelspec": {
   "display_name": "Python 3.7.9 64-bit (windows store)",
   "language": "python",
   "name": "python3"
  },
  "language_info": {
   "codemirror_mode": {
    "name": "ipython",
    "version": 3
   },
   "file_extension": ".py",
   "mimetype": "text/x-python",
   "name": "python",
   "nbconvert_exporter": "python",
   "pygments_lexer": "ipython3",
   "version": "3.7.9"
  },
  "orig_nbformat": 4
 },
 "nbformat": 4,
 "nbformat_minor": 2
}
